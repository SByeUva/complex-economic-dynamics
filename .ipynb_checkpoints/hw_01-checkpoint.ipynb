{
 "cells": [
  {
   "cell_type": "code",
   "execution_count": 1,
   "id": "bf61cda1",
   "metadata": {},
   "outputs": [],
   "source": [
    "import numpy as np\n",
    "import matplotlib.pyplot as plt\n",
    "from scipy import integrate"
   ]
  },
  {
   "cell_type": "markdown",
   "id": "48a63561",
   "metadata": {},
   "source": [
    "## Question 1"
   ]
  },
  {
   "cell_type": "code",
   "execution_count": 2,
   "id": "cc799bcd",
   "metadata": {},
   "outputs": [],
   "source": [
    "def f(t, s):\n",
    "    return np.exp(t)"
   ]
  },
  {
   "cell_type": "code",
   "execution_count": 3,
   "id": "9362f158",
   "metadata": {},
   "outputs": [],
   "source": [
    "def rk4(f, t0, x0, tau, n):\n",
    "    traj = np.zeros(n+1)\n",
    "    h = ((tau - t0) / n)\n",
    "    \n",
    "    traj[0] = x0\n",
    "    \n",
    "    t = t0\n",
    "    \n",
    "    for ii in range(n):\n",
    "        \n",
    "        K1 = h * f(t, traj[ii])\n",
    "        K2 = h * f(t + h/2, traj[ii] + K1/2)\n",
    "        K3 = h * f(t + h/2, traj[ii] + K2/2)\n",
    "        K4 = h * f(t + h, traj[ii] + K3)\n",
    "        \n",
    "        traj[ii + 1] = traj[ii] + (K1/6) + (K2/3) + (K3/3) + (K4/6)\n",
    "        t =  t + h\n",
    "        print(t, h)\n",
    "    \n",
    "    return traj"
   ]
  },
  {
   "cell_type": "code",
   "execution_count": 10,
   "id": "98cb730d",
   "metadata": {},
   "outputs": [],
   "source": [
    "t0 = 0\n",
    "x0 = 1\n",
    "tau = 20\n",
    "n = 10"
   ]
  },
  {
   "cell_type": "code",
   "execution_count": 11,
   "id": "dffe9b8a",
   "metadata": {
    "scrolled": true
   },
   "outputs": [
    {
     "name": "stdout",
     "output_type": "stream",
     "text": [
      "2.0 2.0\n",
      "4.0 2.0\n",
      "6.0 2.0\n",
      "8.0 2.0\n",
      "10.0 2.0\n",
      "12.0 2.0\n",
      "14.0 2.0\n",
      "16.0 2.0\n",
      "18.0 2.0\n",
      "20.0 2.0\n"
     ]
    }
   ],
   "source": [
    "sol = rk4(f, t0, x0, tau, n)"
   ]
  },
  {
   "cell_type": "code",
   "execution_count": 12,
   "id": "da9c3613",
   "metadata": {},
   "outputs": [
    {
     "data": {
      "text/plain": [
       "array([1.00000000e+00, 7.42072780e+00, 5.48638457e+01, 4.05423706e+02,\n",
       "       2.99573018e+03, 2.21356500e+04, 1.63561591e+05, 1.20856581e+06,\n",
       "       8.93016057e+06, 6.59854575e+07, 4.87570247e+08])"
      ]
     },
     "execution_count": 12,
     "metadata": {},
     "output_type": "execute_result"
    }
   ],
   "source": [
    "sol"
   ]
  },
  {
   "cell_type": "code",
   "execution_count": 13,
   "id": "34dcea7d",
   "metadata": {},
   "outputs": [],
   "source": [
    "tt = np.linspace(t0, tau, n)"
   ]
  },
  {
   "cell_type": "code",
   "execution_count": 14,
   "id": "a8a0125c",
   "metadata": {},
   "outputs": [],
   "source": [
    "ret = integrate.odeint(f, x0, tt)"
   ]
  },
  {
   "cell_type": "code",
   "execution_count": 15,
   "id": "2bfc9cec",
   "metadata": {},
   "outputs": [
    {
     "data": {
      "text/plain": [
       "array([[1.00000000e+000],\n",
       "       [3.53781212e+001],\n",
       "       [8.01095173e-307],\n",
       "       [1.89146896e-307],\n",
       "       [7.56571288e-307],\n",
       "       [3.11525958e-307],\n",
       "       [1.24610723e-306],\n",
       "       [1.29061142e-306],\n",
       "       [8.01106038e-307],\n",
       "       [1.02356521e-306]])"
      ]
     },
     "execution_count": 15,
     "metadata": {},
     "output_type": "execute_result"
    }
   ],
   "source": [
    "ret"
   ]
  },
  {
   "cell_type": "code",
   "execution_count": null,
   "id": "faf33688",
   "metadata": {},
   "outputs": [],
   "source": []
  },
  {
   "cell_type": "markdown",
   "id": "f47282e5",
   "metadata": {},
   "source": [
    "# Question 2"
   ]
  },
  {
   "cell_type": "code",
   "execution_count": 97,
   "id": "95a8a4e8",
   "metadata": {},
   "outputs": [],
   "source": [
    "N = [1, 2, 4, 8, 16, 32, 64]\n",
    "tau = 1"
   ]
  },
  {
   "cell_type": "code",
   "execution_count": 103,
   "id": "226e3087",
   "metadata": {},
   "outputs": [
    {
     "name": "stdout",
     "output_type": "stream",
     "text": [
      "[1.         2.71886115]\n",
      "[1. 1. 1.]\n",
      "[1. 1. 1. 1. 1.]\n",
      "[1. 1. 1. 1. 1. 1. 1. 1. 1.]\n",
      "[1. 1. 1. 1. 1. 1. 1. 1. 1. 1. 1. 1. 1. 1. 1. 1. 1.]\n",
      "[1. 1. 1. 1. 1. 1. 1. 1. 1. 1. 1. 1. 1. 1. 1. 1. 1. 1. 1. 1. 1. 1. 1. 1.\n",
      " 1. 1. 1. 1. 1. 1. 1. 1. 1.]\n",
      "[1. 1. 1. 1. 1. 1. 1. 1. 1. 1. 1. 1. 1. 1. 1. 1. 1. 1. 1. 1. 1. 1. 1. 1.\n",
      " 1. 1. 1. 1. 1. 1. 1. 1. 1. 1. 1. 1. 1. 1. 1. 1. 1. 1. 1. 1. 1. 1. 1. 1.\n",
      " 1. 1. 1. 1. 1. 1. 1. 1. 1. 1. 1. 1. 1. 1. 1. 1. 1.]\n"
     ]
    }
   ],
   "source": [
    "for n in N:\n",
    "    #print(rk4(f, t0, x0, tau, n)[-1])\n",
    "    print(rk4(f, t0, x0, tau, n))"
   ]
  },
  {
   "cell_type": "code",
   "execution_count": 99,
   "id": "c59f4aa0",
   "metadata": {},
   "outputs": [
    {
     "data": {
      "text/plain": [
       "2.7188611518765935"
      ]
     },
     "execution_count": 99,
     "metadata": {},
     "output_type": "execute_result"
    }
   ],
   "source": [
    "rk4(f, t0, x0, tau, 1)[-1]"
   ]
  },
  {
   "cell_type": "markdown",
   "id": "68d21b78",
   "metadata": {},
   "source": [
    "# Question 3"
   ]
  },
  {
   "cell_type": "code",
   "execution_count": 32,
   "id": "391e2709",
   "metadata": {},
   "outputs": [],
   "source": [
    "from scipy import integrate"
   ]
  },
  {
   "cell_type": "code",
   "execution_count": 23,
   "id": "63781a06",
   "metadata": {},
   "outputs": [],
   "source": [
    "def f(x1, x2, lmbda = 0.25, mu = 0.55):\n",
    "    return np.array([-x2 , lmbda - mu*x2 - x1**2 - x1*x2])"
   ]
  },
  {
   "cell_type": "code",
   "execution_count": 24,
   "id": "3ec0f3c5",
   "metadata": {},
   "outputs": [],
   "source": [
    "lambdas = 0.25\n",
    "mus = [0.55, 0.45, 0.35]\n",
    "t0 = 0\n",
    "T = 160"
   ]
  },
  {
   "cell_type": "code",
   "execution_count": 38,
   "id": "a72d1c44",
   "metadata": {},
   "outputs": [
    {
     "ename": "NameError",
     "evalue": "name 't' is not defined",
     "output_type": "error",
     "traceback": [
      "\u001b[1;31m---------------------------------------------------------------------------\u001b[0m",
      "\u001b[1;31mNameError\u001b[0m                                 Traceback (most recent call last)",
      "\u001b[1;32m~\\AppData\\Local\\Temp/ipykernel_14704/2901107467.py\u001b[0m in \u001b[0;36m<module>\u001b[1;34m\u001b[0m\n\u001b[1;32m----> 1\u001b[1;33m \u001b[0mintegrate\u001b[0m\u001b[1;33m.\u001b[0m\u001b[0modeint\u001b[0m\u001b[1;33m(\u001b[0m\u001b[0mf\u001b[0m\u001b[1;33m,\u001b[0m \u001b[0mt\u001b[0m\u001b[1;33m)\u001b[0m\u001b[1;33m\u001b[0m\u001b[1;33m\u001b[0m\u001b[0m\n\u001b[0m",
      "\u001b[1;31mNameError\u001b[0m: name 't' is not defined"
     ]
    }
   ],
   "source": [
    "integrate.odeint(f, t)"
   ]
  },
  {
   "cell_type": "code",
   "execution_count": null,
   "id": "e6f57452",
   "metadata": {},
   "outputs": [],
   "source": []
  },
  {
   "cell_type": "code",
   "execution_count": null,
   "id": "43fdb172",
   "metadata": {},
   "outputs": [],
   "source": []
  },
  {
   "cell_type": "code",
   "execution_count": 26,
   "id": "18c68eb7",
   "metadata": {},
   "outputs": [],
   "source": [
    "time = np.linspace(0, 160)"
   ]
  },
  {
   "cell_type": "code",
   "execution_count": 29,
   "id": "87e8474d",
   "metadata": {},
   "outputs": [
    {
     "name": "stderr",
     "output_type": "stream",
     "text": [
      "C:\\Users\\sebas\\AppData\\Local\\Temp/ipykernel_14704/685302405.py:2: VisibleDeprecationWarning: Creating an ndarray from ragged nested sequences (which is a list-or-tuple of lists-or-tuples-or ndarrays with different lengths or shapes) is deprecated. If you meant to do this, you must specify 'dtype=object' when creating the ndarray.\n",
      "  return np.array([-x2 , lmbda - mu*x2 - x1**2 - x1*x2])\n"
     ]
    },
    {
     "ename": "TypeError",
     "evalue": "Cannot cast array data from dtype('O') to dtype('float64') according to the rule 'safe'",
     "output_type": "error",
     "traceback": [
      "\u001b[1;31m---------------------------------------------------------------------------\u001b[0m",
      "\u001b[1;31mTypeError\u001b[0m                                 Traceback (most recent call last)",
      "\u001b[1;32m~\\AppData\\Local\\Temp/ipykernel_14704/2145553867.py\u001b[0m in \u001b[0;36m<module>\u001b[1;34m\u001b[0m\n\u001b[1;32m----> 1\u001b[1;33m \u001b[0mintegrate\u001b[0m\u001b[1;33m.\u001b[0m\u001b[0modeint\u001b[0m\u001b[1;33m(\u001b[0m\u001b[0mf\u001b[0m\u001b[1;33m,\u001b[0m \u001b[0mnp\u001b[0m\u001b[1;33m.\u001b[0m\u001b[0marray\u001b[0m\u001b[1;33m(\u001b[0m\u001b[1;33m[\u001b[0m\u001b[1;36m0.49\u001b[0m\u001b[1;33m,\u001b[0m \u001b[1;36m0\u001b[0m\u001b[1;33m]\u001b[0m\u001b[1;33m)\u001b[0m\u001b[1;33m,\u001b[0m \u001b[0mtime\u001b[0m\u001b[1;33m)\u001b[0m\u001b[1;33m\u001b[0m\u001b[1;33m\u001b[0m\u001b[0m\n\u001b[0m",
      "\u001b[1;32m~\\anaconda3\\envs\\py39\\lib\\site-packages\\scipy\\integrate\\odepack.py\u001b[0m in \u001b[0;36modeint\u001b[1;34m(func, y0, t, args, Dfun, col_deriv, full_output, ml, mu, rtol, atol, tcrit, h0, hmax, hmin, ixpr, mxstep, mxhnil, mxordn, mxords, printmessg, tfirst)\u001b[0m\n\u001b[0;32m    239\u001b[0m     \u001b[0mt\u001b[0m \u001b[1;33m=\u001b[0m \u001b[0mcopy\u001b[0m\u001b[1;33m(\u001b[0m\u001b[0mt\u001b[0m\u001b[1;33m)\u001b[0m\u001b[1;33m\u001b[0m\u001b[1;33m\u001b[0m\u001b[0m\n\u001b[0;32m    240\u001b[0m     \u001b[0my0\u001b[0m \u001b[1;33m=\u001b[0m \u001b[0mcopy\u001b[0m\u001b[1;33m(\u001b[0m\u001b[0my0\u001b[0m\u001b[1;33m)\u001b[0m\u001b[1;33m\u001b[0m\u001b[1;33m\u001b[0m\u001b[0m\n\u001b[1;32m--> 241\u001b[1;33m     output = _odepack.odeint(func, y0, t, args, Dfun, col_deriv, ml, mu,\n\u001b[0m\u001b[0;32m    242\u001b[0m                              \u001b[0mfull_output\u001b[0m\u001b[1;33m,\u001b[0m \u001b[0mrtol\u001b[0m\u001b[1;33m,\u001b[0m \u001b[0matol\u001b[0m\u001b[1;33m,\u001b[0m \u001b[0mtcrit\u001b[0m\u001b[1;33m,\u001b[0m \u001b[0mh0\u001b[0m\u001b[1;33m,\u001b[0m \u001b[0mhmax\u001b[0m\u001b[1;33m,\u001b[0m \u001b[0mhmin\u001b[0m\u001b[1;33m,\u001b[0m\u001b[1;33m\u001b[0m\u001b[1;33m\u001b[0m\u001b[0m\n\u001b[0;32m    243\u001b[0m                              \u001b[0mixpr\u001b[0m\u001b[1;33m,\u001b[0m \u001b[0mmxstep\u001b[0m\u001b[1;33m,\u001b[0m \u001b[0mmxhnil\u001b[0m\u001b[1;33m,\u001b[0m \u001b[0mmxordn\u001b[0m\u001b[1;33m,\u001b[0m \u001b[0mmxords\u001b[0m\u001b[1;33m,\u001b[0m\u001b[1;33m\u001b[0m\u001b[1;33m\u001b[0m\u001b[0m\n",
      "\u001b[1;31mTypeError\u001b[0m: Cannot cast array data from dtype('O') to dtype('float64') according to the rule 'safe'"
     ]
    }
   ],
   "source": [
    "integrate.odeint(f, np.array([0.49, 0]), time)"
   ]
  }
 ],
 "metadata": {
  "kernelspec": {
   "display_name": "Python 3 (ipykernel)",
   "language": "python",
   "name": "python3"
  },
  "language_info": {
   "codemirror_mode": {
    "name": "ipython",
    "version": 3
   },
   "file_extension": ".py",
   "mimetype": "text/x-python",
   "name": "python",
   "nbconvert_exporter": "python",
   "pygments_lexer": "ipython3",
   "version": "3.9.7"
  }
 },
 "nbformat": 4,
 "nbformat_minor": 5
}
