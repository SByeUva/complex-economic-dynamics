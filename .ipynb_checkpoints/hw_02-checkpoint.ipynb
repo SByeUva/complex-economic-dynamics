{
 "cells": [
  {
   "cell_type": "code",
   "execution_count": 1,
   "id": "dfd8c72e",
   "metadata": {},
   "outputs": [],
   "source": [
    "import numpy as np"
   ]
  },
  {
   "cell_type": "code",
   "execution_count": 123,
   "id": "dd3b2806",
   "metadata": {},
   "outputs": [],
   "source": [
    "class Fundamentalist():\n",
    "    def __init__(self, a=0, b=0, c=1):\n",
    "        self.a=a\n",
    "        self.b=b\n",
    "        self.c=c\n",
    "    \n",
    "    def get_expectation(self, last_price):\n",
    "        return self.a + self.b * last_price\n",
    "    \n",
    "class Naive():\n",
    "    def __init__(self, a=0, b=1, c=0):\n",
    "        self.a=a\n",
    "        self.b=b\n",
    "        self.c=c\n",
    "    \n",
    "    def get_expectation(self, last_price):\n",
    "        return self.a + self.b * last_price\n",
    "    \n",
    "class Adaptive():\n",
    "    def __init__(self, a=0, b=0, c=0.5, w=0.5):\n",
    "        self.a=a\n",
    "        self.b=b\n",
    "        self.c=c\n",
    "        \n",
    "        self.last_expectation = 0\n",
    "        \n",
    "    def get_expectation(self, last_price):\n",
    "        self.last_expectation = self.last_expectation + self.w*(last_price - self.last_expectation)\n",
    "        return self.last_expectation\n",
    "\n",
    "\n",
    "class CobWebModel():\n",
    "    def __init__(self, A=0, d=3/4, s=1, start_price=0, beta=1/2):\n",
    "        self.A = A\n",
    "        self.d = d\n",
    "        self.s = s\n",
    "        self.beta = beta\n",
    "        \n",
    "        self.agents = []\n",
    "        self.fractions = []\n",
    "        self.expectations = []\n",
    "        \n",
    "        self.prices = [start_price]\n",
    "        \n",
    "    def step(self):\n",
    "        self.expectations.append(self.get_expectations())\n",
    "        self.prices.append(self.get_new_price())\n",
    "        self.fractions = self.get_new_fractions()\n",
    "        \n",
    "    \n",
    "    def add_agent(self,agent, fraction):\n",
    "        self.agents.append(agent)\n",
    "        self.fractions.append(fraction)\n",
    "        \n",
    "    def get_expectations(self):\n",
    "        return [agent.get_expectation(self.prices[-1]) for agent in self.agents]\n",
    "        \n",
    "    def get_new_price(self):\n",
    "        return -1*(np.sum([self.s*self.fractions[i]*expectation for i, expectation in enumerate(self.expectations[-1])]) - self.A)/self.d\n",
    "    \n",
    "    def get_supply(self, expected_price):\n",
    "        return self.s*expected_price\n",
    "    \n",
    "    def get_profit(self, expected_price, agent):\n",
    "        supply = self.get_supply(expected_price)\n",
    "        return supply*self.prices[-1] - 0.5*supply**2-agent.c\n",
    "    \n",
    "    def get_new_fractions(self):\n",
    "        profits = [self.get_profit(self.expectations[-1][i], agent) for i,agent in enumerate(self.agents)]\n",
    "        Z = np.sum([np.exp(self.beta*profit) for profit in profits])\n",
    "        \n",
    "        \n",
    "        return [np.exp(self.beta*profit)/Z for profit in profits]"
   ]
  },
  {
   "cell_type": "code",
   "execution_count": 140,
   "id": "fe000d4c",
   "metadata": {},
   "outputs": [],
   "source": [
    "cwmodel = CobWebModel(start_price = 10)"
   ]
  },
  {
   "cell_type": "code",
   "execution_count": 141,
   "id": "05f595b6",
   "metadata": {},
   "outputs": [],
   "source": [
    "cwmodel.add_agent(Naive(), 0.5)\n",
    "cwmodel.add_agent(Fundamentalist(), 0.5)"
   ]
  },
  {
   "cell_type": "code",
   "execution_count": 150,
   "id": "e68a1354",
   "metadata": {},
   "outputs": [],
   "source": [
    "cwmodel.step()"
   ]
  },
  {
   "cell_type": "code",
   "execution_count": 151,
   "id": "8942d864",
   "metadata": {},
   "outputs": [
    {
     "data": {
      "text/plain": [
       "[0.6224593312018546, 0.37754066879814546]"
      ]
     },
     "execution_count": 151,
     "metadata": {},
     "output_type": "execute_result"
    }
   ],
   "source": [
    "cwmodel.fractions"
   ]
  }
 ],
 "metadata": {
  "kernelspec": {
   "display_name": "Python 3 (ipykernel)",
   "language": "python",
   "name": "python3"
  },
  "language_info": {
   "codemirror_mode": {
    "name": "ipython",
    "version": 3
   },
   "file_extension": ".py",
   "mimetype": "text/x-python",
   "name": "python",
   "nbconvert_exporter": "python",
   "pygments_lexer": "ipython3",
   "version": "3.10.4"
  }
 },
 "nbformat": 4,
 "nbformat_minor": 5
}
