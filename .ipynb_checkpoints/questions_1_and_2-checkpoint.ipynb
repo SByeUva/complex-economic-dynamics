{
 "cells": [
  {
   "cell_type": "markdown",
   "id": "67d28d97",
   "metadata": {},
   "source": [
    "# Homework set 1\n",
    "\n",
    "## Question 1 and 2\n",
    "---"
   ]
  },
  {
   "cell_type": "code",
   "execution_count": 58,
   "id": "0e9ca0b3",
   "metadata": {},
   "outputs": [],
   "source": [
    "# Packages\n",
    "import numpy as np\n",
    "import matplotlib.pyplot as plt\n",
    "from scipy import integrate\n",
    "import pandas as pd"
   ]
  },
  {
   "cell_type": "code",
   "execution_count": 53,
   "id": "e46047b4",
   "metadata": {},
   "outputs": [],
   "source": [
    "# Runge-Kutta from question 1.\n",
    "def rk4(f, t0, x0, tau, n, output = False):\n",
    "    traj = np.zeros(n+1)\n",
    "    tt = []\n",
    "    h = ((tau - t0) / n)\n",
    "    \n",
    "    traj[0] = x0\n",
    "    \n",
    "    t = t0\n",
    "    tt.append(t)\n",
    "    for ii in range(n):\n",
    "        \n",
    "        K1 = h * f(t, traj[ii])\n",
    "        K2 = h * f(t + h/2, traj[ii] + K1/2)\n",
    "        K3 = h * f(t + h/2, traj[ii] + K2/2)\n",
    "        K4 = h * f(t + h, traj[ii] + K3)\n",
    "        \n",
    "        traj[ii + 1] = traj[ii] + (K1/6) + (K2/3) + (K3/3) + (K4/6)\n",
    "        t =  t + h\n",
    "\n",
    "        if output == True:\n",
    "            print(traj[ii+1], t, h)\n",
    "        tt.append(t)\n",
    "    \n",
    "    return traj, tt"
   ]
  },
  {
   "cell_type": "code",
   "execution_count": 54,
   "id": "a3474ff8",
   "metadata": {},
   "outputs": [],
   "source": [
    "# function as specified in question 2.\n",
    "def f(t, s):\n",
    "    return np.exp(t)"
   ]
  },
  {
   "cell_type": "code",
   "execution_count": 55,
   "id": "0d6d0ca1",
   "metadata": {},
   "outputs": [],
   "source": [
    "# Testing Runge-Kutta implementation\n",
    "t0 = 0\n",
    "x0 = 1\n",
    "tau = 10\n",
    "n = 10"
   ]
  },
  {
   "cell_type": "code",
   "execution_count": 56,
   "id": "bc29b3ad",
   "metadata": {},
   "outputs": [],
   "source": [
    "# Run numerical solvers\n",
    "sol_rk, time_rk = rk4(f, t0, x0, tau, n)\n",
    "sol = integrate.solve_ivp(f, [0,tau], [x0])"
   ]
  },
  {
   "cell_type": "code",
   "execution_count": 57,
   "id": "633ea5f7",
   "metadata": {},
   "outputs": [
    {
     "data": {
      "image/png": "[encoded data removed]",
      "text/plain": [
       "<Figure size 432x288 with 1 Axes>"
      ]
     },
     "metadata": {
      "needs_background": "light"
     },
     "output_type": "display_data"
    }
   ],
   "source": [
    "plt.plot(time, sol_rk, label = 'Own implementation')\n",
    "plt.plot(sol.t, sol.y[0], label = 'Scipy')\n",
    "plt.xlabel('t')\n",
    "plt.ylabel(r'$S(t)$')\n",
    "plt.legend()\n",
    "plt.show()"
   ]
  },
  {
   "cell_type": "markdown",
   "id": "aaf2d269",
   "metadata": {},
   "source": [
    "---"
   ]
  },
  {
   "cell_type": "code",
   "execution_count": 77,
   "id": "9c1bc739",
   "metadata": {},
   "outputs": [],
   "source": [
    "N = [1,2,4,8,16] # Number of grid points\n",
    "H = [] # Step size\n",
    "data = [] "
   ]
  },
  {
   "cell_type": "code",
   "execution_count": 78,
   "id": "bd363d37",
   "metadata": {},
   "outputs": [],
   "source": [
    "for n in N:\n",
    "    sol_rk, time_rk = rk4(f, t0, x0, tau, n)\n",
    "    data.append(sol_rk)\n",
    "    H.append((tau-t0)/n)"
   ]
  },
  {
   "cell_type": "code",
   "execution_count": 98,
   "id": "77ce637b",
   "metadata": {},
   "outputs": [],
   "source": [
    "# Numerical aprroximation of s(1)\n",
    "snrk = [ii[-1] for ii in data] \n",
    "# Absolute error\n",
    "absolute_error = [abs(ii[-1] - np.exp(1)) for ii in data]\n",
    "# Difference between current and previous\n",
    "difference_error = [abs(ii[-1] - ii[-2]) for ii in data]\n",
    "# Ratio of difference\n",
    "approx_error = [(abs(ii[-1] - ii[-2]))/((abs(ii[-2] - ii[-3]))) for ii in data[1:-1]] "
   ]
  },
  {
   "cell_type": "code",
   "execution_count": 102,
   "id": "d8807915",
   "metadata": {},
   "outputs": [],
   "source": [
    "approx_error.insert(0, 'null')"
   ]
  },
  {
   "cell_type": "code",
   "execution_count": 106,
   "id": "57163618",
   "metadata": {},
   "outputs": [],
   "source": [
    "df = pd.DataFrame([N, H, snrk, absolute_error, difference_error, approx_error])\n",
    "df = df.T\n",
    "df.columns = ['n', 'h','s(1)', 's(1) - e', 'diff', 'ratio']"
   ]
  },
  {
   "cell_type": "code",
   "execution_count": 107,
   "id": "e0d2c518",
   "metadata": {},
   "outputs": [
    {
     "data": {
      "text/html": [
       "<div>\n",
       "<style scoped>\n",
       "    .dataframe tbody tr th:only-of-type {\n",
       "        vertical-align: middle;\n",
       "    }\n",
       "\n",
       "    .dataframe tbody tr th {\n",
       "        vertical-align: top;\n",
       "    }\n",
       "\n",
       "    .dataframe thead th {\n",
       "        text-align: right;\n",
       "    }\n",
       "</style>\n",
       "<table border=\"1\" class=\"dataframe\">\n",
       "  <thead>\n",
       "    <tr style=\"text-align: right;\">\n",
       "      <th></th>\n",
       "      <th>n</th>\n",
       "      <th>h</th>\n",
       "      <th>s(1)</th>\n",
       "      <th>s(1) - e</th>\n",
       "      <th>diff</th>\n",
       "      <th>ratio</th>\n",
       "    </tr>\n",
       "  </thead>\n",
       "  <tbody>\n",
       "    <tr>\n",
       "      <th>0</th>\n",
       "      <td>1</td>\n",
       "      <td>1.0</td>\n",
       "      <td>2.718861</td>\n",
       "      <td>0.000579</td>\n",
       "      <td>1.718861</td>\n",
       "      <td>null</td>\n",
       "    </tr>\n",
       "    <tr>\n",
       "      <th>1</th>\n",
       "      <td>2.0</td>\n",
       "      <td>0.5</td>\n",
       "      <td>2.718319</td>\n",
       "      <td>0.000037</td>\n",
       "      <td>1.069584</td>\n",
       "      <td>1.648721</td>\n",
       "    </tr>\n",
       "    <tr>\n",
       "      <th>2</th>\n",
       "      <td>4.0</td>\n",
       "      <td>0.25</td>\n",
       "      <td>2.718284</td>\n",
       "      <td>0.000002</td>\n",
       "      <td>0.601283</td>\n",
       "      <td>1.284025</td>\n",
       "    </tr>\n",
       "    <tr>\n",
       "      <th>3</th>\n",
       "      <td>8.0</td>\n",
       "      <td>0.125</td>\n",
       "      <td>2.718282</td>\n",
       "      <td>0.0</td>\n",
       "      <td>0.319407</td>\n",
       "      <td>1.133148</td>\n",
       "    </tr>\n",
       "    <tr>\n",
       "      <th>4</th>\n",
       "      <td>16.0</td>\n",
       "      <td>0.0625</td>\n",
       "      <td>2.718282</td>\n",
       "      <td>0.0</td>\n",
       "      <td>0.164692</td>\n",
       "      <td>NaN</td>\n",
       "    </tr>\n",
       "  </tbody>\n",
       "</table>\n",
       "</div>"
      ],
      "text/plain": [
       "      n       h      s(1)  s(1) - e      diff     ratio\n",
       "0     1     1.0  2.718861  0.000579  1.718861      null\n",
       "1   2.0     0.5  2.718319  0.000037  1.069584  1.648721\n",
       "2   4.0    0.25  2.718284  0.000002  0.601283  1.284025\n",
       "3   8.0   0.125  2.718282       0.0  0.319407  1.133148\n",
       "4  16.0  0.0625  2.718282       0.0  0.164692       NaN"
      ]
     },
     "execution_count": 107,
     "metadata": {},
     "output_type": "execute_result"
    }
   ],
   "source": [
    "df"
   ]
  },
  {
   "cell_type": "code",
   "execution_count": 109,
   "id": "4d42a581",
   "metadata": {},
   "outputs": [
    {
     "data": {
      "text/plain": [
       "'\\\\begin{tabular}{lllllll}\\n\\\\toprule\\n{} &     n &       h &      s(1) &  s(1) - e &      diff &     ratio \\\\\\\\\\n\\\\midrule\\n0 &     1 &     1.0 &  2.718861 &  0.000579 &  1.718861 &      null \\\\\\\\\\n1 &   2.0 &     0.5 &  2.718319 &  0.000037 &  1.069584 &  1.648721 \\\\\\\\\\n2 &   4.0 &    0.25 &  2.718284 &  0.000002 &  0.601283 &  1.284025 \\\\\\\\\\n3 &   8.0 &   0.125 &  2.718282 &       0.0 &  0.319407 &  1.133148 \\\\\\\\\\n4 &  16.0 &  0.0625 &  2.718282 &       0.0 &  0.164692 &       NaN \\\\\\\\\\n\\\\bottomrule\\n\\\\end{tabular}\\n'"
      ]
     },
     "execution_count": 109,
     "metadata": {},
     "output_type": "execute_result"
    }
   ],
   "source": [
    "df.to_latex()"
   ]
  },
  {
   "cell_type": "code",
   "execution_count": null,
   "id": "c47d1016",
   "metadata": {},
   "outputs": [],
   "source": []
  }
 ],
 "metadata": {
  "kernelspec": {
   "display_name": "Python 3 (ipykernel)",
   "language": "python",
   "name": "python3"
  },
  "language_info": {
   "codemirror_mode": {
    "name": "ipython",
    "version": 3
   },
   "file_extension": ".py",
   "mimetype": "text/x-python",
   "name": "python",
   "nbconvert_exporter": "python",
   "pygments_lexer": "ipython3",
   "version": "3.10.4"
  }
 },
 "nbformat": 4,
 "nbformat_minor": 5
}
