{
 "cells": [
  {
   "cell_type": "code",
   "execution_count": 1,
   "id": "ea3cf7c3",
   "metadata": {},
   "outputs": [
    {
     "name": "stdout",
     "output_type": "stream",
     "text": [
      "Computing...\n",
      "Plotting...\n"
     ]
    },
    {
     "data": {
      "image/png": "[encoded data removed]",
      "text/plain": [
       "<Figure size 432x288 with 1 Axes>"
      ]
     },
     "metadata": {
      "needs_background": "light"
     },
     "output_type": "display_data"
    }
   ],
   "source": [
    "import numpy as np\n",
    "import matplotlib.pyplot as plt\n",
    "\n",
    "\"\"\"\n",
    "Compute the trajectory of a function f: (R^n x R) -> R^n, where x_{t + 1} = f(x_t, beta). \n",
    "\"\"\"\n",
    "def trajectory(f, beta, x0: np.ndarray, T: int) -> np.ndarray:\n",
    "    n = x0.shape[0]\n",
    "    X = np.zeros((T + 1, n), dtype = np.float64)\n",
    "    X[0, :] = x0\n",
    "    \n",
    "    for t in range(1, T + 1):\n",
    "        X[t, :] = f(X[t - 1, :], beta)\n",
    "\n",
    "    return X\n",
    "\n",
    "\"\"\"\n",
    "Compute the orbits of a function f: (R^dim x R) -> R^dim, where x_{t + 1} = f(x_t, beta), for parameters beta in the parameters range.\n",
    "\"\"\"\n",
    "def orbits(f, parameter_range: np.ndarray, n = 1_000, tr = 100, dim = 2, idx = 1):\n",
    "    x0 = np.random.normal(size = (n, 2))\n",
    "\n",
    "    orbit = []\n",
    "    for beta in parameter_range:\n",
    "        beta_orbit = []\n",
    "        for i in range(n):\n",
    "            last = trajectory(f, beta, x0[i, :], tr)[-1, idx] # Save the last point\n",
    "            beta_orbit.append(last)\n",
    "\n",
    "        orbit.append(beta_orbit)\n",
    "\n",
    "\n",
    "    return orbit\n",
    "\n",
    "if __name__ == \"__main__\":\n",
    "    d, s = 3/4, 1 # Default parameters\n",
    "    c = 1 # \n",
    "\n",
    "    def phi(x: np.ndarray, beta):\n",
    "\n",
    "        n = x.shape[0]\n",
    "        x_prime = np.empty(n)\n",
    "\n",
    "        intercept = 2 * d / s\n",
    "\n",
    "        x_prime[0] = -x[0] * (1 - x[1]) / (intercept + 1 + x[1])\n",
    "\n",
    "        profit_diff = s * np.square(x_prime[0] - x[0]) / 2  - c\n",
    "        x_prime[1] = np.tanh(profit_diff * beta / 2)\n",
    "\n",
    "        return x_prime\n",
    "\n",
    "    betas = np.arange(start = 0.5, stop = 10, step = 0.1)\n",
    "    \n",
    "    print(\"Computing...\")\n",
    "    beta_orbits = orbits(phi, betas, n = 1_000, tr = 250)\n",
    "\n",
    "\n",
    "    print(\"Plotting...\")\n",
    "    fig, ax = plt.subplots()\n",
    "\n",
    "    for (x, y) in zip(betas, beta_orbits):\n",
    "        ax.scatter([x] * len(y), y, c = \"black\", s = 2)\n",
    "\n",
    "    fig.savefig(\"bifurcation.png\")"
   ]
  },
  {
   "cell_type": "code",
   "execution_count": null,
   "id": "c1879303",
   "metadata": {},
   "outputs": [],
   "source": []
  }
 ],
 "metadata": {
  "kernelspec": {
   "display_name": "Python 3 (ipykernel)",
   "language": "python",
   "name": "python3"
  },
  "language_info": {
   "codemirror_mode": {
    "name": "ipython",
    "version": 3
   },
   "file_extension": ".py",
   "mimetype": "text/x-python",
   "name": "python",
   "nbconvert_exporter": "python",
   "pygments_lexer": "ipython3",
   "version": "3.9.7"
  }
 },
 "nbformat": 4,
 "nbformat_minor": 5
}
