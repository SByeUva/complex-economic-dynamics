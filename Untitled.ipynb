{
 "cells": [
  {
   "cell_type": "code",
   "execution_count": 1,
   "id": "e9e40473",
   "metadata": {},
   "outputs": [],
   "source": [
    "import numpy as np\n",
    "import matplotlib.pyplot as plt"
   ]
  },
  {
   "cell_type": "code",
   "execution_count": 3,
   "id": "853fff10",
   "metadata": {},
   "outputs": [],
   "source": [
    "def f(s1, s2, lam, mu):\n",
    "    return np.array([-s2, lam - mu * s2 - s1**2 - s1*s2])"
   ]
  },
  {
   "cell_type": "code",
   "execution_count": 5,
   "id": "c901adc9",
   "metadata": {},
   "outputs": [],
   "source": [
    "T = [0, 160]\n",
    "s0 = [0.499999, 0]\n",
    "l = 0.25\n",
    "mus = [0.55, 0.45, 0.35]"
   ]
  },
  {
   "cell_type": "code",
   "execution_count": null,
   "id": "b89c2965",
   "metadata": {},
   "outputs": [],
   "source": []
  }
 ],
 "metadata": {
  "kernelspec": {
   "display_name": "Python 3 (ipykernel)",
   "language": "python",
   "name": "python3"
  },
  "language_info": {
   "codemirror_mode": {
    "name": "ipython",
    "version": 3
   },
   "file_extension": ".py",
   "mimetype": "text/x-python",
   "name": "python",
   "nbconvert_exporter": "python",
   "pygments_lexer": "ipython3",
   "version": "3.9.7"
  }
 },
 "nbformat": 4,
 "nbformat_minor": 5
}
