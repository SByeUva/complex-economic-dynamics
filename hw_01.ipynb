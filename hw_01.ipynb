{
 "cells": [
  {
   "cell_type": "code",
   "execution_count": 1,
   "id": "bf61cda1",
   "metadata": {},
   "outputs": [],
   "source": [
    "import numpy as np\n",
    "import matplotlib.pyplot as plt\n",
    "from scipy import integrate\n",
    "import pandas as pd"
   ]
  },
  {
   "cell_type": "markdown",
   "id": "48a63561",
   "metadata": {},
   "source": [
    "## Question 1"
   ]
  },
  {
   "cell_type": "code",
   "execution_count": 2,
   "id": "68621de7",
   "metadata": {},
   "outputs": [],
   "source": [
    "def f_question(t,s):\n",
    "    return s"
   ]
  },
  {
   "cell_type": "code",
   "execution_count": 3,
   "id": "cc799bcd",
   "metadata": {},
   "outputs": [],
   "source": [
    "def f(t, s):\n",
    "    return np.exp(t)"
   ]
  },
  {
   "cell_type": "code",
   "execution_count": 8,
   "id": "b5683abc",
   "metadata": {},
   "outputs": [],
   "source": [
    "# Runge-Kutta from question 1.\n",
    "def rk4(f, t0, x0, tau, n, output = False):\n",
    "    traj = np.zeros(n+1)\n",
    "    tt = []\n",
    "    h = ((tau - t0) / n)\n",
    "    \n",
    "    traj[0] = x0\n",
    "    \n",
    "    t = t0\n",
    "    tt.append(t)\n",
    "    for ii in range(n):\n",
    "        \n",
    "        K1 = h * f(t, traj[ii])\n",
    "        K2 = h * f(t + h/2, traj[ii] + K1/2)\n",
    "        K3 = h * f(t + h/2, traj[ii] + K2/2)\n",
    "        K4 = h * f(t + h, traj[ii] + K3)\n",
    "        \n",
    "        traj[ii + 1] = traj[ii] + (K1/6) + (K2/3) + (K3/3) + (K4/6)\n",
    "        t =  t + h\n",
    "\n",
    "        if output == True:\n",
    "            print(traj[ii+1], t, h)\n",
    "        tt.append(t)\n",
    "    \n",
    "    return traj, tt"
   ]
  },
  {
   "cell_type": "code",
   "execution_count": 11,
   "id": "98cb730d",
   "metadata": {},
   "outputs": [],
   "source": [
    "table = np.zeros((len(N), 6))\n",
    "t0 = 0\n",
    "x0 = 1\n",
    "tau = 5\n",
    "N = [1, 2, 4, 8, 16, 32, 64]"
   ]
  },
  {
   "cell_type": "code",
   "execution_count": 12,
   "id": "af58d6cf",
   "metadata": {},
   "outputs": [],
   "source": [
    "sols = []\n",
    "times = []\n",
    "prev_sol = 1\n",
    "for i, n in enumerate(N):\n",
    "    h = ((tau - t0) / n)\n",
    "    sol, time = rk4(f_question, t0, x0, tau, n, False)\n",
    "    sols.append(sol)\n",
    "    times.append(time)\n",
    "    \n",
    "    table[i,0] = n\n",
    "    table[i,1] = h\n",
    "    table[i,2] = sol[-1]\n",
    "    table[i,3] = abs(sol[-1] - np.exp(1))\n",
    "    table[i,4] = abs(sol[-1] - prev_sol)\n",
    "    if i>1:\n",
    "        table[i,5] = abs(sol[-1] - prev_sol) / abs(prev_sol - table[i-2,5])\n",
    "    prev_sol=sol[-1]"
   ]
  },
  {
   "cell_type": "code",
   "execution_count": 13,
   "id": "103be3af",
   "metadata": {},
   "outputs": [
    {
     "data": {
      "image/png": "[encoded data removed]",
      "text/plain": [
       "<Figure size 432x288 with 1 Axes>"
      ]
     },
     "metadata": {
      "needs_background": "light"
     },
     "output_type": "display_data"
    }
   ],
   "source": [
    "for ii in range(len(sols)):\n",
    "    \n",
    "    plt.plot(times[ii], sols[ii], label = N[ii])\n",
    "\n",
    "plt.plot(np.linspace(0,5,100), np.exp(np.linspace(0,5,100)), label = 'Actual')    \n",
    "plt.legend()\n",
    "plt.xlabel('t')\n",
    "plt.ylabel('S(t)')\n",
    "plt.savefig(\"figures/various_grids.pdf\",dpi=300)  \n",
    "plt.show()"
   ]
  },
  {
   "cell_type": "markdown",
   "id": "f47282e5",
   "metadata": {},
   "source": [
    "# Question 2"
   ]
  },
  {
   "cell_type": "code",
   "execution_count": 14,
   "id": "95a8a4e8",
   "metadata": {},
   "outputs": [],
   "source": [
    "N = [1, 2, 4, 8, 16, 32, 64]\n",
    "tau = 1"
   ]
  },
  {
   "cell_type": "code",
   "execution_count": 15,
   "id": "99800879",
   "metadata": {},
   "outputs": [],
   "source": [
    "# coluumns:\n",
    "# n, h, sol, sol-e, sol-prev_sol, abs(sol)/abs(prev_sol)\n",
    "\n",
    "table = np.zeros((len(N), 6))"
   ]
  },
  {
   "cell_type": "code",
   "execution_count": 16,
   "id": "226e3087",
   "metadata": {
    "scrolled": true
   },
   "outputs": [],
   "source": [
    "sols = []\n",
    "times = []\n",
    "prev_sol = 1\n",
    "for i, n in enumerate(N):\n",
    "    h = ((tau - t0) / n)\n",
    "    sol, time = rk4(f_question, t0, x0, tau, n, False)\n",
    "    sols.append(sol)\n",
    "    times.append(time)\n",
    "    \n",
    "    table[i,0] = n\n",
    "    table[i,1] = h\n",
    "    table[i,2] = sol[-1]\n",
    "    table[i,3] = abs(sol[-1] - np.exp(1))\n",
    "    table[i,4] = abs(sol[-1] - prev_sol)\n",
    "    if i>1:\n",
    "        table[i,5] = abs(sol[-1] - prev_sol) / abs(prev_sol - table[i-2,5])\n",
    "    prev_sol=sol[-1]"
   ]
  },
  {
   "cell_type": "code",
   "execution_count": 17,
   "id": "ac260667",
   "metadata": {
    "scrolled": true
   },
   "outputs": [
    {
     "data": {
      "text/html": [
       "<div>\n",
       "<style scoped>\n",
       "    .dataframe tbody tr th:only-of-type {\n",
       "        vertical-align: middle;\n",
       "    }\n",
       "\n",
       "    .dataframe tbody tr th {\n",
       "        vertical-align: top;\n",
       "    }\n",
       "\n",
       "    .dataframe thead th {\n",
       "        text-align: right;\n",
       "    }\n",
       "</style>\n",
       "<table border=\"1\" class=\"dataframe\">\n",
       "  <thead>\n",
       "    <tr style=\"text-align: right;\">\n",
       "      <th></th>\n",
       "      <th>n</th>\n",
       "      <th>h</th>\n",
       "      <th>s(1)</th>\n",
       "      <th>s(1) - e</th>\n",
       "      <th>diff</th>\n",
       "      <th>ratio</th>\n",
       "    </tr>\n",
       "  </thead>\n",
       "  <tbody>\n",
       "    <tr>\n",
       "      <th>0</th>\n",
       "      <td>1.0</td>\n",
       "      <td>1.000000</td>\n",
       "      <td>2.708333</td>\n",
       "      <td>9.948495e-03</td>\n",
       "      <td>1.708333e+00</td>\n",
       "      <td>0.000000e+00</td>\n",
       "    </tr>\n",
       "    <tr>\n",
       "      <th>1</th>\n",
       "      <td>2.0</td>\n",
       "      <td>0.500000</td>\n",
       "      <td>2.717346</td>\n",
       "      <td>9.356371e-04</td>\n",
       "      <td>9.012858e-03</td>\n",
       "      <td>0.000000e+00</td>\n",
       "    </tr>\n",
       "    <tr>\n",
       "      <th>2</th>\n",
       "      <td>4.0</td>\n",
       "      <td>0.250000</td>\n",
       "      <td>2.718210</td>\n",
       "      <td>7.188926e-05</td>\n",
       "      <td>8.637478e-04</td>\n",
       "      <td>3.178645e-04</td>\n",
       "    </tr>\n",
       "    <tr>\n",
       "      <th>3</th>\n",
       "      <td>8.0</td>\n",
       "      <td>0.125000</td>\n",
       "      <td>2.718277</td>\n",
       "      <td>4.984042e-06</td>\n",
       "      <td>6.690522e-05</td>\n",
       "      <td>2.461370e-05</td>\n",
       "    </tr>\n",
       "    <tr>\n",
       "      <th>4</th>\n",
       "      <td>16.0</td>\n",
       "      <td>0.062500</td>\n",
       "      <td>2.718282</td>\n",
       "      <td>3.281185e-07</td>\n",
       "      <td>4.655924e-06</td>\n",
       "      <td>1.713022e-06</td>\n",
       "    </tr>\n",
       "    <tr>\n",
       "      <th>5</th>\n",
       "      <td>32.0</td>\n",
       "      <td>0.031250</td>\n",
       "      <td>2.718282</td>\n",
       "      <td>2.104785e-08</td>\n",
       "      <td>3.070706e-07</td>\n",
       "      <td>1.129660e-07</td>\n",
       "    </tr>\n",
       "    <tr>\n",
       "      <th>6</th>\n",
       "      <td>64.0</td>\n",
       "      <td>0.015625</td>\n",
       "      <td>2.718282</td>\n",
       "      <td>1.332718e-09</td>\n",
       "      <td>1.971514e-08</td>\n",
       "      <td>7.252798e-09</td>\n",
       "    </tr>\n",
       "  </tbody>\n",
       "</table>\n",
       "</div>"
      ],
      "text/plain": [
       "      n         h      s(1)      s(1) - e          diff         ratio\n",
       "0   1.0  1.000000  2.708333  9.948495e-03  1.708333e+00  0.000000e+00\n",
       "1   2.0  0.500000  2.717346  9.356371e-04  9.012858e-03  0.000000e+00\n",
       "2   4.0  0.250000  2.718210  7.188926e-05  8.637478e-04  3.178645e-04\n",
       "3   8.0  0.125000  2.718277  4.984042e-06  6.690522e-05  2.461370e-05\n",
       "4  16.0  0.062500  2.718282  3.281185e-07  4.655924e-06  1.713022e-06\n",
       "5  32.0  0.031250  2.718282  2.104785e-08  3.070706e-07  1.129660e-07\n",
       "6  64.0  0.015625  2.718282  1.332718e-09  1.971514e-08  7.252798e-09"
      ]
     },
     "execution_count": 17,
     "metadata": {},
     "output_type": "execute_result"
    }
   ],
   "source": [
    "df = pd.DataFrame(table)\n",
    "df.columns = ['n', 'h','s(1)', 's(1) - e', 'diff', 'ratio']\n",
    "df"
   ]
  },
  {
   "cell_type": "code",
   "execution_count": null,
   "id": "3f1e6cf7",
   "metadata": {},
   "outputs": [],
   "source": [
    "df.to_latex()"
   ]
  },
  {
   "cell_type": "markdown",
   "id": "68d21b78",
   "metadata": {},
   "source": [
    "# Question 3"
   ]
  },
  {
   "cell_type": "code",
   "execution_count": 18,
   "id": "0d92cabb",
   "metadata": {},
   "outputs": [],
   "source": [
    "from scipy import integrate"
   ]
  },
  {
   "cell_type": "code",
   "execution_count": 670,
   "id": "63781a06",
   "metadata": {},
   "outputs": [],
   "source": [
    "def f(x1, x2, lmbda = .25, mu = .55):\n",
    "    return np.array([-x2 , lmbda - mu*x2 - x1**2 - x1*x2])"
   ]
  },
  {
   "cell_type": "code",
   "execution_count": 675,
   "id": "d02b90e4",
   "metadata": {},
   "outputs": [
    {
     "name": "stderr",
     "output_type": "stream",
     "text": [
      "C:\\Users\\JWant\\AppData\\Local\\Temp\\ipykernel_20616\\373768958.py:13: RuntimeWarning: invalid value encountered in true_divide\n",
      "  U = u / np.sqrt(u**2 + v**2);\n",
      "C:\\Users\\JWant\\AppData\\Local\\Temp\\ipykernel_20616\\373768958.py:14: RuntimeWarning: invalid value encountered in true_divide\n",
      "  V = v / np.sqrt(u**2 + v**2);\n"
     ]
    },
    {
     "data": {
      "image/png": "[encoded data removed]",
      "text/plain": [
       "<Figure size 720x720 with 1 Axes>"
      ]
     },
     "metadata": {
      "needs_background": "light"
     },
     "output_type": "display_data"
    }
   ],
   "source": [
    "# Meshgrid\n",
    "n = 25\n",
    "x_max = 1.5\n",
    "x_min = -1.5\n",
    "\n",
    "x, y = np.meshgrid(np.linspace(x_min, x_max, n), \n",
    "                   np.linspace(-3, 3, n))\n",
    "  \n",
    "# Directional vectors\n",
    "u = f(x,y)[0]\n",
    "v = f(x,y)[1]\n",
    "\n",
    "U = u / np.sqrt(u**2 + v**2);\n",
    "V = v / np.sqrt(u**2 + v**2);\n",
    "  \n",
    "# Plotting Vector Field with QUIVER\n",
    "plt.figure( figsize = (10, 10))\n",
    "#plt.quiver(x, y, u, v, color='g')\n",
    "plt.quiver(x, y, U, V, color='g')\n",
    "#lt.quiver(x, y, np.ones(len(u)), np.ones(len(v)), color='g')\n",
    "plt.title('Vector Field\\n$\\mu=0.55, \\lambda=0.25$')\n",
    "plt.xlabel('x1')\n",
    "plt.ylabel('x2')\n",
    "  \n",
    "# Setting x, y boundary limits\n",
    "plt.xlim(x_min, x_max)\n",
    "plt.ylim(-3.5, 3.5)\n",
    "plt.savefig(\"figures/vector_field_55_25.pdf\",dpi=300)  \n",
    "# Show plot with grid\n",
    "plt.grid()\n",
    "plt.show()"
   ]
  },
  {
   "cell_type": "code",
   "execution_count": null,
   "id": "f23eb3f9",
   "metadata": {},
   "outputs": [],
   "source": [
    "# Stable point = x1 = +sqrt(lambda) x2=0"
   ]
  },
  {
   "cell_type": "code",
   "execution_count": null,
   "id": "00081cac",
   "metadata": {},
   "outputs": [],
   "source": [
    "# Flikker in runga kutta\n",
    "rk4(f, t0, x0, tau, n)"
   ]
  },
  {
   "cell_type": "code",
   "execution_count": null,
   "id": "baa7dc92",
   "metadata": {},
   "outputs": [],
   "source": []
  },
  {
   "cell_type": "markdown",
   "id": "895958fd",
   "metadata": {},
   "source": [
    "#### A) Steady states in vector field\n",
    "\n",
    "$$\n",
    "\\dot{s} = f(x), \n",
    "f(x) = \\begin{pmatrix}\n",
    "-x_2 \\\\\n",
    "\\lambda - \\mu x_2 -x_{1}^{2}-x_{1}x_2\n",
    "\\end{pmatrix}\n",
    "$$\n",
    "\n",
    "For a state to be a steady state, the derivative has to be 0. Hence, \n",
    "$$\n",
    "f(x1,x2) = \\begin{pmatrix}\n",
    "0 \\\\\n",
    "0\n",
    "\\end{pmatrix}\n",
    "$$\n",
    "Thus x2=0. \n",
    "$$\n",
    "\\lambda - \\mu x_2 - x_{1}^{2}-x_1x_2 = 0 \\\\\n",
    "x_2 = 0 \\\\\n",
    "x_{1}^{2} = \\lambda \\\\\n",
    "x_{1}= \\pm \\sqrt{\\lambda}\n",
    "$$"
   ]
  },
  {
   "cell_type": "markdown",
   "id": "4ae8a429",
   "metadata": {},
   "source": [
    "### B) Region where there are no and 2 steady states\n",
    "2 steady states:\n",
    "$$\n",
    " \\lambda>0\n",
    "$$\n",
    "\n",
    "What is lambda = 0? -> 1 steady state <br>\n",
    "No steady states:\n",
    "$$\n",
    "\\lambda <0\n",
    "$$\n"
   ]
  },
  {
   "cell_type": "code",
   "execution_count": 26,
   "id": "a8f392ad",
   "metadata": {},
   "outputs": [],
   "source": [
    "def give_steady_states(mu, lam):\n",
    "    return np.array([[-np.sqrt(lam), 0], [np.sqrt(lam), 0]]) "
   ]
  },
  {
   "cell_type": "code",
   "execution_count": 29,
   "id": "0f82f01f",
   "metadata": {},
   "outputs": [
    {
     "data": {
      "text/plain": [
       "array([[-7.28010989,  0.        ],\n",
       "       [ 7.28010989,  0.        ]])"
      ]
     },
     "execution_count": 29,
     "metadata": {},
     "output_type": "execute_result"
    }
   ],
   "source": [
    "give_steady_states(1, 53)"
   ]
  },
  {
   "cell_type": "markdown",
   "id": "dbae02f5",
   "metadata": {},
   "source": [
    "### C) Stability for the two steady states \n",
    "\n",
    "Theory:\n",
    "$$\n",
    "s = \\bar{x}+y \\\\\n",
    "\\dot{s} = \\dot{y}\\\\\n",
    "$$\n",
    "\n",
    "Taylor Expand\n",
    "$$\n",
    "\\dot{y} = f(\\bar{x})+\\frac{\\partial f}{\\partial{x}}(\\bar{x})y+R(y)\n",
    "$$\n",
    "\n",
    "Define A\n",
    "$$\n",
    "A = \\frac{\\partial f}{\\partial{x}}(\\bar{x})\n",
    "$$\n",
    "\n",
    "Look at the real part of the eigenvalues to determine the dynamics around the stable points\n",
    "\n",
    "In our case:\n",
    "$$\n",
    "\\bar{x} = \\begin{pmatrix}\n",
    "\\pm\\sqrt{\\lambda} \\\\\n",
    "0\n",
    "\\end{pmatrix},\n",
    "A = \\begin{pmatrix}\n",
    "\\frac{\\partial{f_1}}{\\partial{x_1}} & \\frac{\\partial{f_1}}{\\partial{x_2}}\\\\\n",
    "\\frac{\\partial{f_2}}{\\partial{x_1}} & \\frac{\\partial{f_2}}{\\partial{x_2}}\n",
    "\\end{pmatrix} = \\begin{pmatrix}\n",
    "0 & 1\\\\\n",
    "-2x_1-x_2 & -\\mu-x_1\n",
    "\\end{pmatrix}\n",
    "$$\n",
    "\n",
    "Then, the eigenvalues are:\n",
    "$$\n",
    "0=det(A - \\kappa I)=\\begin{pmatrix}\n",
    "0-\\kappa & 1\\\\\n",
    "-2x_1-x_2 & -\\mu-x_1-\\kappa\n",
    "\\end{pmatrix}\n",
    "$$\n",
    "\n",
    "Considered at the positive stable point\n",
    "$$\n",
    "0=det(A - \\kappa I)=\\begin{pmatrix}\n",
    "0-\\kappa & 1\\\\\n",
    "-2\\sqrt{\\lambda} & -\\mu-\\sqrt{\\lambda}-\\kappa\n",
    "\\end{pmatrix}\\\\\n",
    "=-\\kappa(-\\mu-\\sqrt{\\lambda}-\\kappa)+2\\sqrt{\\lambda}\\\\\n",
    "=\\kappa^2-\\kappa\\mu-\\kappa\\sqrt{\\lambda}+2\\sqrt{\\lambda}\n",
    "$$\n",
    "\n",
    "Solve for $\\kappa$\n",
    "$$\n",
    "\\kappa=\\frac{1}{2}(-\\sqrt{\\lambda}-\\mu\\pm\\sqrt{\\lambda+\\mu^2+2\\sqrt{\\lambda}(4+\\mu)})\n",
    "$$\n",
    "\n",
    "Considered at the negative stable point\n",
    "$$\n",
    "0=det(A - \\kappa I)=\\begin{pmatrix}\n",
    "0-\\kappa & 1\\\\\n",
    "2\\sqrt{\\lambda} & -\\mu+\\sqrt{\\lambda}-\\kappa\n",
    "\\end{pmatrix}\\\\\n",
    "=-\\kappa(-\\mu+\\sqrt{\\lambda}-\\kappa)-2\\sqrt{\\lambda}\\\\\n",
    "=\\kappa^2-\\kappa\\mu+\\kappa\\sqrt{\\lambda}-2\\sqrt{\\lambda}\n",
    "$$\n",
    "\n",
    "Solve for $\\kappa$\n",
    "$$\n",
    "\\kappa=\\frac{1}{2}(-\\sqrt{\\lambda}-\\mu\\pm\\sqrt{\\lambda+\\mu^2-2\\sqrt{\\lambda}(4+\\mu)})\n",
    "$$\n"
   ]
  },
  {
   "cell_type": "code",
   "execution_count": 87,
   "id": "8602015c",
   "metadata": {},
   "outputs": [],
   "source": [
    "# stability of parameter space\n",
    "def point1_eigenvalues(mu, lam):\n",
    "    return [0.5*(-np.sqrt(2*np.sqrt(lam)*(mu+4)+lam+mu**2)-np.sqrt(lam)-mu), 0.5*(np.sqrt(2*np.sqrt(lam)*(mu+4)+lam+mu**2)-np.sqrt(lam)-mu)]\n",
    "\n",
    "def point2_eigenvalues(mu, lam):\n",
    "    if lam<0:\n",
    "        return [np.nan, np.nan]\n",
    "    elif (-2*np.sqrt(lam)*mu-7*lam+mu**2)<0:\n",
    "        return[f\"{0.5*(np.sqrt(lam)-mu)} + j\",f\"{0.5*(np.sqrt(lam)-mu)} + j\"]\n",
    "    return [0.5*(-np.sqrt(-2*np.sqrt(lam)*mu-7*lam+mu**2)+np.sqrt(lam)-mu), 0.5*(np.sqrt(-2*np.sqrt(lam)*mu-7*lam+mu**2)+np.sqrt(lam)-mu)]"
   ]
  },
  {
   "cell_type": "code",
   "execution_count": 43,
   "id": "d067a5e9",
   "metadata": {},
   "outputs": [
    {
     "data": {
      "text/plain": [
       "[-2.732050807568877, 0.7320508075688772]"
      ]
     },
     "execution_count": 43,
     "metadata": {},
     "output_type": "execute_result"
    }
   ],
   "source": [
    "point1_eigenvalues(1,1)"
   ]
  },
  {
   "cell_type": "code",
   "execution_count": 44,
   "id": "7088b0b2",
   "metadata": {},
   "outputs": [
    {
     "data": {
      "text/plain": [
       "['j', 'j']"
      ]
     },
     "execution_count": 44,
     "metadata": {},
     "output_type": "execute_result"
    }
   ],
   "source": [
    "point2_eigenvalues(1,1)"
   ]
  },
  {
   "cell_type": "code",
   "execution_count": 125,
   "id": "77c259a6",
   "metadata": {},
   "outputs": [],
   "source": [
    "mus=np.linspace(-20,20)\n",
    "lambdas=np.linspace(-20,20)"
   ]
  },
  {
   "cell_type": "code",
   "execution_count": 126,
   "id": "f56f8232",
   "metadata": {},
   "outputs": [
    {
     "data": {
      "text/plain": [
       "[array([ -0.10468636,  -0.10933141,  -0.11440501,  -0.11996889,\n",
       "         -0.12609712,  -0.13287936,  -0.14042512,  -0.14886952,\n",
       "         -0.15838111,  -0.16917276,  -0.181517  ,  -0.19576796,\n",
       "         -0.2123937 ,  -0.23202449,  -0.25552719,  -0.28412222,\n",
       "         -0.31957312,  -0.36450121,  -0.42291871,  -0.50113608,\n",
       "         -0.60925083,  -0.76324561,  -0.9865174 ,  -1.30641606,\n",
       "         -1.74076012,  -2.28386989,  -2.91143603,  -3.59685729,\n",
       "         -4.32009558,  -5.06809498,  -5.83269083,  -6.60875147,\n",
       "         -7.39297603,  -8.1831793 ,  -8.97787198,  -9.77601099,\n",
       "        -10.57684736, -11.37983116, -12.18455045, -12.99069109,\n",
       "        -13.79800967, -14.60631483, -15.41545422, -16.22530506,\n",
       "        -17.0357674 , -17.84675904, -18.65821182, -19.47006871,\n",
       "        -20.2822817 , -21.09481005]),\n",
       " array([19.10468636, 18.29300488, 17.48175195, 16.67098929, 15.86079099,\n",
       "        15.0512467 , 14.24246594, 13.4345838 , 12.62776886, 11.82223399,\n",
       "        11.01825169, 10.21617613,  9.41647533,  8.6197796 ,  7.82695576,\n",
       "         7.03922426,  6.25834863,  5.48695019,  4.72904116,  3.99093199,\n",
       "         3.28272021,  2.62038847,  2.02733373,  1.53090586,  1.14892338,\n",
       "         0.87570663,  0.68694623,  0.55604097,  0.46295272,  0.3946256 ,\n",
       "         0.34289491,  0.30262902,  0.27052705,  0.24440379,  0.22276994,\n",
       "         0.20458242,  0.18909226,  0.17574953,  0.16414229,  0.1539564 ,\n",
       "         0.14494844,  0.13692708,  0.12973993,  0.12326425,  0.11740005,\n",
       "         0.11206517,  0.10719141,  0.10272177,  0.09860823,  0.09481005])]"
      ]
     },
     "execution_count": 126,
     "metadata": {},
     "output_type": "execute_result"
    }
   ],
   "source": [
    "point1_eigenvalues(mus,1)"
   ]
  },
  {
   "cell_type": "code",
   "execution_count": 50,
   "id": "47908e7b",
   "metadata": {},
   "outputs": [
    {
     "name": "stderr",
     "output_type": "stream",
     "text": [
      "C:\\Users\\JWant\\AppData\\Local\\Temp\\ipykernel_20616\\1498077924.py:3: RuntimeWarning: invalid value encountered in sqrt\n",
      "  return [0.5*(-np.sqrt(2*np.sqrt(lam)*(mu+4)+lam+mu**2)-np.sqrt(lam)-mu), 0.5*(np.sqrt(2*np.sqrt(lam)*(mu+4)+lam+mu**2)-np.sqrt(lam)-mu)]\n"
     ]
    },
    {
     "data": {
      "text/plain": [
       "[array([        nan,         nan,         nan,         nan,         nan,\n",
       "                nan,         nan,         nan,         nan,         nan,\n",
       "                nan,         nan,         nan,         nan,         nan,\n",
       "                nan,         nan,         nan,         nan,         nan,\n",
       "                nan,         nan,         nan,         nan,         nan,\n",
       "        -2.21558735, -2.87606668, -3.29554318, -3.62332391, -3.89961401,\n",
       "        -4.14203967, -4.36012445, -4.55967946, -4.74454815, -4.9174234 ,\n",
       "        -5.08027558, -5.23459606, -5.38154485, -5.52204454, -5.6568428 ,\n",
       "        -5.78655519, -5.91169551, -6.03269766, -6.14993197, -6.26371738,\n",
       "        -6.37433086, -6.48201469, -6.5869822 , -6.68942237, -6.78950354]),\n",
       " array([       nan,        nan,        nan,        nan,        nan,\n",
       "               nan,        nan,        nan,        nan,        nan,\n",
       "               nan,        nan,        nan,        nan,        nan,\n",
       "               nan,        nan,        nan,        nan,        nan,\n",
       "               nan,        nan,        nan,        nan,        nan,\n",
       "        0.57671079, 0.76950001, 0.86697175, 0.9330154 , 0.98298431,\n",
       "        1.02312581, 1.05662223, 1.08532116, 1.11039259, 1.13262502,\n",
       "        1.15257536, 1.17065169, 1.18716202, 1.20234453, 1.2163872 ,\n",
       "        1.22944102, 1.24162905, 1.25305293, 1.26379754, 1.27393451,\n",
       "        1.28352485, 1.29262089, 1.30126791, 1.30950531, 1.31736759])]"
      ]
     },
     "execution_count": 50,
     "metadata": {},
     "output_type": "execute_result"
    }
   ],
   "source": [
    "point1_eigenvalues(1,lambdas)"
   ]
  },
  {
   "cell_type": "code",
   "execution_count": null,
   "id": "6459b504",
   "metadata": {},
   "outputs": [],
   "source": [
    "## stability steady state x1=np.sqrt(lam)\n",
    "## The steady state has a negative and a positive eigenvalue for all values of mu and lambda greater than 0. \n",
    "## This steady state is an unstable saddle point"
   ]
  },
  {
   "cell_type": "code",
   "execution_count": 141,
   "id": "8712ac81",
   "metadata": {},
   "outputs": [
    {
     "name": "stdout",
     "output_type": "stream",
     "text": [
      "[0.3542486889354093, 5.645751311064591]\n",
      "[0.3684992748713154, 5.427419092475624]\n",
      "[0.38403953190184703, 5.207797202792031]\n",
      "[0.40106786421870755, 4.9866872378221085]\n",
      "[0.4198289862480711, 4.763844483139684]\n",
      "[0.4406293279900053, 4.538962508744689]\n",
      "[0.4638594636752762, 4.311650740406356]\n",
      "[0.4900278442890664, 4.0814007271395045]\n",
      "[0.5198135531364034, 3.8475333856391067]\n",
      "[0.5541528652110832, 3.6091124409113657]\n",
      "[0.5943901041099333, 3.3647935693594544]\n",
      "[0.6425620187422638, 3.1125400220740627]\n",
      "[0.7019942587887829, 2.8490261493744824]\n",
      "[0.7787628482945724, 2.568175927215632]\n",
      "[0.8863097823838972, 2.2565473604732453]\n",
      "[1.0705138717205704, 1.868261638483511]\n",
      "['1.3673469387755102 + j', '1.3673469387755102 + j']\n",
      "['1.2653061224489797 + j', '1.2653061224489797 + j']\n",
      "['1.163265306122449 + j', '1.163265306122449 + j']\n",
      "['1.0612244897959182 + j', '1.0612244897959182 + j']\n",
      "['0.9591836734693877 + j', '0.9591836734693877 + j']\n",
      "['0.8571428571428572 + j', '0.8571428571428572 + j']\n",
      "['0.7551020408163263 + j', '0.7551020408163263 + j']\n",
      "['0.6530612244897958 + j', '0.6530612244897958 + j']\n",
      "['0.5510204081632653 + j', '0.5510204081632653 + j']\n",
      "['0.44897959183673475 + j', '0.44897959183673475 + j']\n",
      "['0.34693877551020424 + j', '0.34693877551020424 + j']\n",
      "['0.2448979591836733 + j', '0.2448979591836733 + j']\n",
      "['0.1428571428571428 + j', '0.1428571428571428 + j']\n",
      "['0.04081632653061229 + j', '0.04081632653061229 + j']\n",
      "['-0.06122448979591866 + j', '-0.06122448979591866 + j']\n",
      "['-0.16326530612244916 + j', '-0.16326530612244916 + j']\n",
      "['-0.26530612244897966 + j', '-0.26530612244897966 + j']\n",
      "['-0.36734693877551017 + j', '-0.36734693877551017 + j']\n",
      "['-0.46938775510204067 + j', '-0.46938775510204067 + j']\n",
      "['-0.5714285714285716 + j', '-0.5714285714285716 + j']\n",
      "['-0.6734693877551021 + j', '-0.6734693877551021 + j']\n",
      "['-0.7755102040816326 + j', '-0.7755102040816326 + j']\n",
      "['-0.8775510204081636 + j', '-0.8775510204081636 + j']\n",
      "['-0.9795918367346941 + j', '-0.9795918367346941 + j']\n",
      "['-1.0816326530612246 + j', '-1.0816326530612246 + j']\n",
      "['-1.183673469387755 + j', '-1.183673469387755 + j']\n",
      "['-1.2857142857142856 + j', '-1.2857142857142856 + j']\n",
      "['-1.387755102040816 + j', '-1.387755102040816 + j']\n",
      "[-1.9582955217652676, -1.0212963149694274]\n",
      "[-2.3225515832640076, -0.8611218861237484]\n",
      "[-2.626197859632688, -0.7615572424081289]\n",
      "[-2.9028613569241326, -0.6889753777697456]\n",
      "[-3.163758955711079, -0.6321594116358604]\n",
      "[-3.414213562373095, -0.5857864376269049]\n"
     ]
    }
   ],
   "source": [
    "for mu in mus:\n",
    "    print(point2_eigenvalues(mu,1))"
   ]
  },
  {
   "cell_type": "code",
   "execution_count": 64,
   "id": "f38384ab",
   "metadata": {},
   "outputs": [
    {
     "name": "stdout",
     "output_type": "stream",
     "text": [
      "[nan, nan]\n",
      "[nan, nan]\n",
      "[nan, nan]\n",
      "[nan, nan]\n",
      "[nan, nan]\n",
      "[nan, nan]\n",
      "[nan, nan]\n",
      "[nan, nan]\n",
      "[nan, nan]\n",
      "[nan, nan]\n",
      "[nan, nan]\n",
      "[nan, nan]\n",
      "[nan, nan]\n",
      "[nan, nan]\n",
      "[nan, nan]\n",
      "[nan, nan]\n",
      "[nan, nan]\n",
      "[nan, nan]\n",
      "[nan, nan]\n",
      "[nan, nan]\n",
      "[nan, nan]\n",
      "[nan, nan]\n",
      "[nan, nan]\n",
      "[nan, nan]\n",
      "[nan, nan]\n",
      "[0.18056172 1.77056375]\n",
      "[0.05328334 3.12802844]\n",
      "[0.21428571 4.01781746]\n",
      "[0.34515425 4.73081568]\n",
      "[0.45831485 5.34299028]\n",
      "[0.55945693 5.88781786]\n",
      "[0.65175111 6.38356182]\n",
      "[0.73717915 6.84148079]\n",
      "[0.81707778 7.26909483]\n",
      "[0.89239919 7.67172152]\n",
      "[0.96385011 8.05328507]\n",
      "[1.03197218 8.41677934]\n",
      "[1.09719141 8.76455002]\n",
      "[1.15985001 9.09847554]\n",
      "[1.2202278  9.42008779]\n",
      "[1.27855709 9.73065552]\n",
      "[ 1.33503323 10.03124355]\n",
      "[ 1.38982237 10.3227559 ]\n",
      "[ 1.44306722 10.60596788]\n",
      "[ 1.49489143 10.88155031]\n",
      "[ 1.54540301 11.1500883 ]\n",
      "[ 1.5946969 11.4120958]\n",
      "[ 1.64285714 11.66802713]\n",
      "[ 1.68995853 11.9182863 ]\n",
      "[ 1.73606798 12.16323443]\n"
     ]
    }
   ],
   "source": [
    "for lam in lambdas:\n",
    "    print(point2_eigenvalues(1,lam))"
   ]
  },
  {
   "cell_type": "code",
   "execution_count": null,
   "id": "0e226d54",
   "metadata": {},
   "outputs": [],
   "source": [
    "## The steady state has two positive eigenvalues for mu< "
   ]
  },
  {
   "cell_type": "code",
   "execution_count": 108,
   "id": "34dbbee8",
   "metadata": {},
   "outputs": [],
   "source": [
    "def complex_part(mu, lam):\n",
    "    return -2*np.sqrt(lam)*mu-7*lam+mu**2\n",
    "def real_part(mu,lam):\n",
    "    return 0.5*(np.sqrt(lam)-mu)"
   ]
  },
  {
   "cell_type": "code",
   "execution_count": 760,
   "id": "f2610dcf",
   "metadata": {},
   "outputs": [
    {
     "data": {
      "text/plain": [
       "Text(0.5, 1.0, 'parameter space $\\\\mu$ for $\\\\lambda=1$')"
      ]
     },
     "execution_count": 760,
     "metadata": {},
     "output_type": "execute_result"
    },
    {
     "data": {
      "image/png": "[encoded data removed]",
      "text/plain": [
       "<Figure size 432x288 with 1 Axes>"
      ]
     },
     "metadata": {
      "needs_background": "light"
     },
     "output_type": "display_data"
    }
   ],
   "source": [
    "mus=np.linspace(-5,5)\n",
    "plt.plot(mus, complex_part(mus,np.ones(len(mus))*2))\n",
    "plt.plot(mus, real_part(mus,np.ones(len(mus))*2))\n",
    "plt.plot(mus, np.zeros(len(mus)))\n",
    "plt.xlabel(\"$\\mu$\")\n",
    "plt.ylabel(\"y\")\n",
    "plt.title(\"parameter space $\\mu$ for $\\lambda=1$\")\n",
    "#plt.savefig(\"figures/parameter_space.pdf\", dpi=300)"
   ]
  },
  {
   "cell_type": "markdown",
   "id": "aa040e90",
   "metadata": {},
   "source": [
    "## Question 4"
   ]
  },
  {
   "cell_type": "code",
   "execution_count": 145,
   "id": "33045478",
   "metadata": {},
   "outputs": [],
   "source": [
    "lambdas = 0.25\n",
    "mus = [0.55, 0.45, 0.35]\n",
    "t0 = 0\n",
    "T = 160\n",
    "N = 64"
   ]
  },
  {
   "cell_type": "code",
   "execution_count": 772,
   "id": "22fb81e9",
   "metadata": {},
   "outputs": [],
   "source": [
    "def ff(x,t, lam=0.25,mu=.45):\n",
    "    x1=x[0]\n",
    "    x2=x[1]\n",
    "    return np.array([-x2, -lam-mu*x2-x1**2-x1*x2])"
   ]
  },
  {
   "cell_type": "code",
   "execution_count": 775,
   "id": "1bd15c96",
   "metadata": {},
   "outputs": [],
   "source": [
    "res55 = integrate.odeint(ff, np.array([0.5,0]), np.linspace(0,10,10000000),(0.25,0.55))\n",
    "res45 = integrate.odeint(ff, np.array([0.5,0]), np.linspace(0,10,100000),(0.25,0.45))\n",
    "res35 = integrate.odeint(ff, np.array([0.5,0]), np.linspace(0,10,100000),(0.25,0.35))"
   ]
  },
  {
   "cell_type": "code",
   "execution_count": 776,
   "id": "31723932",
   "metadata": {},
   "outputs": [
    {
     "data": {
      "text/plain": [
       "[<matplotlib.lines.Line2D at 0x14a0fae7550>]"
      ]
     },
     "execution_count": 776,
     "metadata": {},
     "output_type": "execute_result"
    },
    {
     "data": {
      "image/png": "[encoded data removed]",
      "text/plain": [
       "<Figure size 432x288 with 1 Axes>"
      ]
     },
     "metadata": {
      "needs_background": "light"
     },
     "output_type": "display_data"
    }
   ],
   "source": [
    "plt.plot(res55[:,1])\n",
    "plt.plot(res55[:,0])"
   ]
  },
  {
   "cell_type": "code",
   "execution_count": 777,
   "id": "bed8d0fc",
   "metadata": {},
   "outputs": [
    {
     "data": {
      "text/plain": [
       "[<matplotlib.lines.Line2D at 0x14a0fb56020>]"
      ]
     },
     "execution_count": 777,
     "metadata": {},
     "output_type": "execute_result"
    },
    {
     "data": {
      "image/png": "[encoded data removed]",
      "text/plain": [
       "<Figure size 432x288 with 1 Axes>"
      ]
     },
     "metadata": {
      "needs_background": "light"
     },
     "output_type": "display_data"
    }
   ],
   "source": [
    "plt.plot(res45[:,1])\n",
    "plt.plot(res45[:,0])"
   ]
  },
  {
   "cell_type": "code",
   "execution_count": 778,
   "id": "1ea71395",
   "metadata": {},
   "outputs": [
    {
     "data": {
      "text/plain": [
       "[<matplotlib.lines.Line2D at 0x14a0fbbda50>]"
      ]
     },
     "execution_count": 778,
     "metadata": {},
     "output_type": "execute_result"
    },
    {
     "data": {
      "image/png": "[encoded data removed]",
      "text/plain": [
       "<Figure size 432x288 with 1 Axes>"
      ]
     },
     "metadata": {
      "needs_background": "light"
     },
     "output_type": "display_data"
    }
   ],
   "source": [
    "plt.plot(res35[:,1])\n",
    "plt.plot(res35[:,0])"
   ]
  },
  {
   "cell_type": "code",
   "execution_count": 704,
   "id": "99233512",
   "metadata": {},
   "outputs": [],
   "source": [
    "res = integrate.RK45(ff, 0, np.array([-0.5,0]), 160)"
   ]
  },
  {
   "cell_type": "code",
   "execution_count": 705,
   "id": "51616631",
   "metadata": {},
   "outputs": [
    {
     "name": "stdout",
     "output_type": "stream",
     "text": [
      "[-0.5  0. ]\n",
      "[-5.00000000e-01 -2.21834703e-13]\n",
      "[-5.00000007e-01 -2.52907361e-08]\n",
      "[-5.0007540e-01 -2.7613707e-04]\n",
      "[-0.50721182 -0.01857518]\n",
      "[-0.55270781 -0.11267134]\n",
      "[-0.62014825 -0.25927803]\n",
      "[-0.43598628  0.35570954]\n",
      "[0.25363581 2.81594101]\n",
      "[1.2331377  6.63248455]\n",
      "[ 3.69555485 16.9107454 ]\n",
      "[ 9.46383127 42.7015214 ]\n",
      "[ 22.7489414  106.45620313]\n",
      "[ 52.91990823 263.14469569]\n",
      "[120.55414213 648.00463308]\n",
      "[ 269.88290263 1592.6341753 ]\n",
      "[ 593.56090135 3901.96009472]\n",
      "[1280.77554682 9500.71613241]\n",
      "[ 2708.93127133 22902.80571683]\n",
      "[ 5614.92123355 54443.7334828 ]\n",
      "[ 8352.93194509 90588.58554507]\n",
      "[ 14492.15718366 178940.92945177]\n",
      "[ 24738.96786635 346721.03928522]\n",
      "[ 48134.68414008 772080.9328123 ]\n",
      "[  81126.85653453 1461843.39203869]\n",
      "[ 122974.61315781 2477332.20012563]\n",
      "[ 207276.55017889 4645494.49023914]\n",
      "[ 370132.41339859 9223983.39236954]\n",
      "[  595683.84038192 16262323.51973392]\n",
      "[  737234.97119697 21917936.83131495]\n",
      "[ 1149495.33157672 37155329.60445523]\n",
      "[ 2113898.07035067 74315121.39036359]\n",
      "[3.10241157e+06 1.17017021e+08]\n",
      "[2.90659230e+06 1.16959968e+08]\n",
      "[4.96275945e+06 2.14599167e+08]\n",
      "[7.78124060e+06 3.57465792e+08]\n",
      "[6.76969659e+06 3.28660336e+08]\n",
      "[1.05665440e+07 5.45426918e+08]\n",
      "[1.65886514e+07 9.02804423e+08]\n",
      "[1.53163850e+07 8.75503303e+08]\n",
      "[2.32572283e+07 1.40188091e+09]\n",
      "[3.40239555e+07 2.14800014e+09]\n",
      "[3.04959686e+07 2.01043670e+09]\n",
      "[4.30526673e+07 2.97306230e+09]\n",
      "[6.11317110e+07 4.39987918e+09]\n",
      "[5.77069579e+07 4.31931306e+09]\n",
      "[8.00185411e+07 6.24172208e+09]\n",
      "[1.07217640e+08 8.67923637e+09]\n",
      "[9.89164870e+07 8.29471486e+09]\n",
      "[1.30365614e+08 1.13442735e+10]\n",
      "[1.71348146e+08 1.54227401e+10]\n",
      "[1.64145503e+08 1.52605065e+10]\n",
      "[2.14004941e+08 2.05761547e+10]\n",
      "[2.70209073e+08 2.67929818e+10]\n",
      "[2.54159822e+08 2.59590473e+10]\n",
      "[3.19694467e+08 3.36708515e+10]\n",
      "[5.25642351e+08 5.70838602e+10]\n",
      "[7.30837091e+08 8.16448959e+10]\n",
      "[6.54841116e+08 7.50697287e+10]\n",
      "[4.92378495e+08 5.78718398e+10]\n",
      "[4.97550842e+08 6.00284984e+10]\n",
      "[7.83286617e+08 9.71219453e+10]\n",
      "[9.36926608e+08 1.18984391e+11]\n",
      "[6.57736365e+08 8.54281600e+10]\n",
      "[6.89853695e+08 9.18007831e+10]\n",
      "[9.60612931e+08 1.30896755e+11]\n",
      "[1.18953517e+09 1.65905524e+11]\n",
      "[1.62454402e+09 2.31853253e+11]\n",
      "[2.03136653e+09 2.96335174e+11]\n",
      "[1.97085796e+09 2.93501607e+11]\n",
      "[1.70410677e+09 2.58929341e+11]\n",
      "[1.73683660e+09 2.69370234e+11]\n",
      "[2.29856903e+09 3.64035442e+11]\n",
      "[3.18833828e+09 5.15313984e+11]\n",
      "[3.44757374e+09 5.67898179e+11]\n",
      "[2.88806770e+09 4.84420223e+11]\n",
      "[2.54220419e+09 4.34239201e+11]\n",
      "[3.02627343e+09 5.26811506e+11]\n",
      "[4.45277476e+09 7.89968714e+11]\n",
      "[5.62929009e+09 1.01665063e+12]\n",
      "[4.97746917e+09 9.13999283e+11]\n",
      "[3.87381537e+09 7.23012261e+11]\n",
      "[3.88990837e+09 7.38452106e+11]\n",
      "[5.57497104e+09 1.07715646e+12]\n",
      "[8.25636697e+09 1.62250734e+12]\n",
      "[8.47900046e+09 1.69246209e+12]\n",
      "[6.26371261e+09 1.26892605e+12]\n",
      "[5.15816207e+09 1.06089770e+12]\n",
      "[6.48229157e+09 1.35496125e+12]\n",
      "[1.05942455e+10 2.25062429e+12]\n",
      "[1.3558805e+10 2.9237928e+12]\n",
      "[1.06654904e+10 2.33178712e+12]\n",
      "[7.39089552e+09 1.63793336e+12]\n",
      "[7.43685998e+09 1.67228347e+12]\n",
      "[1.19361294e+10 2.72551693e+12]\n",
      "[1.38620024e+10 3.20807481e+12]\n",
      "[8.87716148e+09 2.08054933e+12]\n",
      "[8.29760639e+09 1.97155061e+12]\n",
      "[1.44152126e+10 3.47651266e+12]\n",
      "[1.78068042e+10 4.34949370e+12]\n",
      "[1.05534949e+10 2.60848257e+12]\n",
      "[9.60343968e+09 2.40476656e+12]\n",
      "[1.79028486e+10 4.54803927e+12]\n",
      "[2.28262181e+10 5.86923406e+12]\n",
      "[1.25397547e+10 3.26034035e+12]\n",
      "[1.10638923e+10 2.91244011e+12]\n",
      "[2.18457746e+10 5.83134852e+12]\n",
      "[2.87494956e+10 7.76290458e+12]\n",
      "[1.48813721e+10 4.06062449e+12]\n",
      "[1.28254321e+10 3.54114991e+12]\n",
      "[1.97428639e+10 5.51858927e+12]\n",
      "[3.10961861e+10 8.79945869e+12]\n",
      "[4.40771158e+10 1.26190318e+13]\n",
      "[4.12882316e+10 1.19484253e+13]\n",
      "[2.89860303e+10 8.47541470e+12]\n",
      "[2.44626771e+10 7.23012320e+12]\n",
      "[3.23365635e+10 9.66812275e+12]\n",
      "[5.24051335e+10 1.58484725e+13]\n",
      "[6.14274461e+10 1.87732221e+13]\n",
      "[4.45045518e+10 1.37348433e+13]\n",
      "[3.09105515e+10 9.63336651e+12]\n",
      "[3.30849842e+10 1.04213266e+13]\n",
      "[5.48418024e+10 1.74675685e+13]\n",
      "[6.10328448e+10 1.96287564e+13]\n",
      "[3.63476818e+10 1.17965763e+13]\n",
      "[3.19158770e+10 1.04616124e+13]\n",
      "[5.49725131e+10 1.82181358e+13]\n",
      "[6.96630331e+10 2.33047338e+13]\n",
      "[4.13106111e+10 1.39412911e+13]\n",
      "[3.69298591e+10 1.25833433e+13]\n",
      "[6.66311121e+10 2.29468334e+13]\n",
      "[8.43524338e+10 2.93131222e+13]\n",
      "[4.72642489e+10 1.65623770e+13]\n",
      "[4.11538886e+10 1.45551799e+13]\n",
      "[7.69124208e+10 2.74859116e+13]\n",
      "[9.97507761e+10 3.59589795e+13]\n",
      "[5.39685951e+10 1.96114254e+13]\n",
      "[4.63993661e+10 1.70119975e+13]\n",
      "[8.92892290e+10 3.30694125e+13]\n",
      "[1.17471506e+11 4.38737067e+13]\n",
      "[6.16240790e+10 2.31933319e+13]\n",
      "[5.23248669e+10 1.98637998e+13]\n",
      "[1.03002613e+11 3.94881002e+13]\n",
      "[1.37244621e+11 5.30438180e+13]\n",
      "[7.03207726e+10 2.73804777e+13]\n",
      "[5.91434338e+10 2.32210042e+13]\n",
      "[1.18438554e+11 4.69475412e+13]\n",
      "[1.59326341e+11 6.36523231e+13]\n",
      "[8.01802125e+10 3.22626268e+13]\n",
      "[6.69256351e+10 2.71472412e+13]\n",
      "[1.35683385e+11 5.55506591e+13]\n",
      "[1.83841553e+11 7.58413864e+13]\n",
      "[9.13178458e+10 3.79333787e+13]\n",
      "[7.57799190e+10 3.17257367e+13]\n",
      "[1.54909933e+11 6.54414948e+13]\n",
      "[2.10964725e+11 8.97808621e+13]\n",
      "[1.03853086e+11 4.44940864e+13]\n",
      "[8.58060348e+10 3.70416392e+13]\n",
      "[1.76273347e+11 7.67654453e+13]\n",
      "[2.40870724e+11 1.05649934e+14]\n"
     ]
    }
   ],
   "source": [
    "for i in range(160):\n",
    "    res.step()\n",
    "    sol = res.dense_output()\n",
    "    print(sol(0))"
   ]
  },
  {
   "cell_type": "code",
   "execution_count": 668,
   "id": "0924a5be",
   "metadata": {},
   "outputs": [],
   "source": []
  },
  {
   "cell_type": "code",
   "execution_count": 645,
   "id": "361f38bb",
   "metadata": {},
   "outputs": [],
   "source": []
  },
  {
   "cell_type": "code",
   "execution_count": 342,
   "id": "7b1cc33c",
   "metadata": {},
   "outputs": [],
   "source": [
    "def ff(t, x,mu,lam):\n",
    "    x1=x[0]\n",
    "    x2=x[1]\n",
    "    return np.array([-x2, -lam-mu*x2-x1**2-x1*x2])"
   ]
  },
  {
   "cell_type": "code",
   "execution_count": 325,
   "id": "d4984866",
   "metadata": {},
   "outputs": [],
   "source": [
    "def rk4(func, t0, x0, tau, n, args=None, output = False):\n",
    "    traj = np.zeros((n+1, len(x0)))\n",
    "    tt = []\n",
    "    h = ((tau - t0) / n)\n",
    "    \n",
    "    traj[0] = x0\n",
    "    \n",
    "    t = t0\n",
    "    tt.append(t)\n",
    "    for ii in range(n):\n",
    "        \n",
    "        if args:\n",
    "            K1 = h * func(t, traj[ii],**args)\n",
    "            K2 = h * func(t + h/2, traj[ii] + K1/2,**args)\n",
    "            K3 = h * func(t + h/2, traj[ii] + K2/2,**args)\n",
    "            K4 = h * func(t + h, traj[ii] + K3,**args)\n",
    "        else:\n",
    "            K1 = h * func(t, traj[ii])\n",
    "            K2 = h * func(t + h/2, traj[ii] + K1/2)\n",
    "            K3 = h * func(t + h/2, traj[ii] + K2/2)\n",
    "            K4 = h * func(t + h, traj[ii] + K3)\n",
    "        \n",
    "        #traj[ii + 1] = traj[ii] + (K1/6) + (K2/3) + (K3/3) + (K4/6)\n",
    "        traj[ii + 1] = traj[ii] + (K1/6) + (K2/3) + (K3/3) + (K4/6)\n",
    "        t =  t + h\n",
    "\n",
    "        if output == True:\n",
    "            print(traj[ii+1], t, h)\n",
    "        tt.append(t)\n",
    "    \n",
    "    return traj, tt"
   ]
  },
  {
   "cell_type": "code",
   "execution_count": 310,
   "id": "7503b4d3",
   "metadata": {},
   "outputs": [],
   "source": [
    "x0=[0.499999, 0]"
   ]
  },
  {
   "cell_type": "code",
   "execution_count": 311,
   "id": "67463a1b",
   "metadata": {},
   "outputs": [],
   "source": [
    "N=20000"
   ]
  },
  {
   "cell_type": "code",
   "execution_count": 366,
   "id": "015869e9",
   "metadata": {},
   "outputs": [
    {
     "name": "stderr",
     "output_type": "stream",
     "text": [
      "C:\\Users\\JWant\\AppData\\Local\\Temp\\ipykernel_20616\\1424710261.py:4: RuntimeWarning: overflow encountered in double_scalars\n",
      "  return np.array([-x2, -lam-mu*x2-x1**2-x1*x2])\n",
      "C:\\Users\\JWant\\AppData\\Local\\Temp\\ipykernel_20616\\1424710261.py:4: RuntimeWarning: invalid value encountered in double_scalars\n",
      "  return np.array([-x2, -lam-mu*x2-x1**2-x1*x2])\n",
      "C:\\Users\\JWant\\AppData\\Local\\Temp\\ipykernel_20616\\3704159393.py:23: RuntimeWarning: invalid value encountered in add\n",
      "  traj[ii + 1] = traj[ii] + (K1/6) + (K2/3) + (K3/3) + (K4/6)\n"
     ]
    }
   ],
   "source": [
    "args={'mu':0.55, 'lam':0.25}\n",
    "sol55, time = rk4(ff, t0, x0, 160, N, args)\n",
    "\n",
    "args={'mu':0.45, 'lam':0.25}\n",
    "sol45, time = rk4(ff, t0, x0, 160, N, args)\n",
    "args={'mu':0.35, 'lam':0.25}\n",
    "sol35, time = rk4(ff, t0, x0, 160, N, args)"
   ]
  },
  {
   "cell_type": "code",
   "execution_count": 368,
   "id": "60a3d0f2",
   "metadata": {
    "scrolled": true
   },
   "outputs": [
    {
     "data": {
      "text/plain": [
       "[<matplotlib.lines.Line2D at 0x14a02ef5d50>]"
      ]
     },
     "execution_count": 368,
     "metadata": {},
     "output_type": "execute_result"
    },
    {
     "data": {
      "image/png": "[encoded data removed]",
      "text/plain": [
       "<Figure size 432x288 with 1 Axes>"
      ]
     },
     "metadata": {
      "needs_background": "light"
     },
     "output_type": "display_data"
    }
   ],
   "source": [
    "plt.plot(time[:20], sol55[:20,1])\n",
    "plt.plot(time[:20], sol45[:20,1])\n",
    "plt.plot(time[:20], sol35[:20,1])"
   ]
  },
  {
   "cell_type": "code",
   "execution_count": 351,
   "id": "9f7c4744",
   "metadata": {},
   "outputs": [],
   "source": [
    "## B"
   ]
  },
  {
   "cell_type": "code",
   "execution_count": 357,
   "id": "df0ee720",
   "metadata": {},
   "outputs": [],
   "source": [
    "v1 = np.array([-.52,0.86]); v2 = np.array([-0.86, 0.52]); h=10e-6;xbar=np.array([0.5,0])\n",
    "\n",
    "N = 10000"
   ]
  },
  {
   "cell_type": "code",
   "execution_count": 362,
   "id": "9a53c624",
   "metadata": {},
   "outputs": [
    {
     "name": "stderr",
     "output_type": "stream",
     "text": [
      "C:\\Users\\JWant\\AppData\\Local\\Temp\\ipykernel_20616\\1424710261.py:4: RuntimeWarning: overflow encountered in double_scalars\n",
      "  return np.array([-x2, -lam-mu*x2-x1**2-x1*x2])\n",
      "C:\\Users\\JWant\\AppData\\Local\\Temp\\ipykernel_20616\\1424710261.py:4: RuntimeWarning: invalid value encountered in double_scalars\n",
      "  return np.array([-x2, -lam-mu*x2-x1**2-x1*x2])\n"
     ]
    }
   ],
   "source": [
    "args={'mu':0.35, 'lam':0.25}\n",
    "solplus_35, tt = rk4(ff, 0, xbar+h*v1, 20, N, args)"
   ]
  },
  {
   "cell_type": "code",
   "execution_count": 365,
   "id": "a301ae29",
   "metadata": {},
   "outputs": [
    {
     "data": {
      "text/plain": [
       "[<matplotlib.lines.Line2D at 0x14a0310b490>,\n",
       " <matplotlib.lines.Line2D at 0x14a0310b4f0>]"
      ]
     },
     "execution_count": 365,
     "metadata": {},
     "output_type": "execute_result"
    },
    {
     "data": {
      "image/png": "[encoded data removed]",
      "text/plain": [
       "<Figure size 432x288 with 1 Axes>"
      ]
     },
     "metadata": {
      "needs_background": "light"
     },
     "output_type": "display_data"
    }
   ],
   "source": [
    "plt.plot(tt[:100],solplus_35[:100])"
   ]
  }
 ],
 "metadata": {
  "kernelspec": {
   "display_name": "Python 3 (ipykernel)",
   "language": "python",
   "name": "python3"
  },
  "language_info": {
   "codemirror_mode": {
    "name": "ipython",
    "version": 3
   },
   "file_extension": ".py",
   "mimetype": "text/x-python",
   "name": "python",
   "nbconvert_exporter": "python",
   "pygments_lexer": "ipython3",
   "version": "3.10.4"
  }
 },
 "nbformat": 4,
 "nbformat_minor": 5
}
