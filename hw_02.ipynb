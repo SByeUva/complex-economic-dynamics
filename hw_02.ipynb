{
 "cells": [
  {
   "cell_type": "code",
   "execution_count": 1,
   "id": "aceee089",
   "metadata": {},
   "outputs": [],
   "source": [
    "import numpy as np"
   ]
  },
  {
   "cell_type": "code",
   "execution_count": 123,
   "id": "acebdf20",
   "metadata": {},
   "outputs": [],
   "source": [
    "class Fundamentalist():\n",
    "    def __init__(self, a=0, b=0, c=1):\n",
    "        self.a=a\n",
    "        self.b=b\n",
    "        self.c=c\n",
    "    \n",
    "    def get_expectation(self, last_price):\n",
    "        return self.a + self.b * last_price\n",
    "    \n",
    "class Naive():\n",
    "    def __init__(self, a=0, b=1, c=0):\n",
    "        self.a=a\n",
    "        self.b=b\n",
    "        self.c=c\n",
    "    \n",
    "    def get_expectation(self, last_price):\n",
    "        return self.a + self.b * last_price\n",
    "    \n",
    "class Adaptive():\n",
    "    def __init__(self, a=0, b=0, c=0.5, w=0.5):\n",
    "        self.a=a\n",
    "        self.b=b\n",
    "        self.c=c\n",
    "        \n",
    "        self.last_expectation = 0\n",
    "        \n",
    "    def get_expectation(self, last_price):\n",
    "        self.last_expectation = self.last_expectation + self.w*(last_price - self.last_expectation)\n",
    "        return self.last_expectation\n",
    "\n",
    "\n",
    "class CobWebModel():\n",
    "    def __init__(self, A=0, d=3/4, s=1, start_price=0, beta=1/2):\n",
    "        self.A = A\n",
    "        self.d = d\n",
    "        self.s = s\n",
    "        self.beta = beta\n",
    "        \n",
    "        self.agents = []\n",
    "        self.fractions = []\n",
    "        self.expectations = []\n",
    "        \n",
    "        self.prices = [start_price]\n",
    "        \n",
    "    def step(self):\n",
    "        self.expectations.append(self.get_expectations())\n",
    "        self.prices.append(self.get_new_price())\n",
    "        self.fractions = self.get_new_fractions()\n",
    "        \n",
    "    \n",
    "    def add_agent(self,agent, fraction):\n",
    "        self.agents.append(agent)\n",
    "        self.fractions.append(fraction)\n",
    "        \n",
    "    def get_expectations(self):\n",
    "        return [agent.get_expectation(self.prices[-1]) for agent in self.agents]\n",
    "        \n",
    "    def get_new_price(self):\n",
    "        return -1*(np.sum([self.s*self.fractions[i]*expectation for i, expectation in enumerate(self.expectations[-1])]) - self.A)/self.d\n",
    "    \n",
    "    def get_supply(self, expected_price):\n",
    "        return self.s*expected_price\n",
    "    \n",
    "    def get_profit(self, expected_price, agent):\n",
    "        supply = self.get_supply(expected_price)\n",
    "        return supply*self.prices[-1] - 0.5*supply**2-agent.c\n",
    "    \n",
    "    def get_new_fractions(self):\n",
    "        profits = [self.get_profit(self.expectations[-1][i], agent) for i,agent in enumerate(self.agents)]\n",
    "        Z = np.sum([np.exp(self.beta*profit) for profit in profits])\n",
    "        \n",
    "        \n",
    "        return [np.exp(self.beta*profit)/Z for profit in profits]"
   ]
  },
  {
   "cell_type": "code",
   "execution_count": 439,
   "id": "4eee38b9",
   "metadata": {},
   "outputs": [],
   "source": [
    "#init for naive and fundamentalist in equal starting fractions\n",
    "\n",
    "cwmodel = CobWebModel(start_price = 20)\n",
    "\n",
    "cwmodel.add_agent(Naive(), 0.5)\n",
    "cwmodel.add_agent(Fundamentalist(), .5)"
   ]
  },
  {
   "cell_type": "code",
   "execution_count": 443,
   "id": "67531c95",
   "metadata": {},
   "outputs": [
    {
     "name": "stdout",
     "output_type": "stream",
     "text": [
      "[0.6224593312018546, 0.37754066879814546]\n",
      "[20, -13.333333333333334, 1.3540839905191446e-100, -1.4850962706338438e-119, 1.2325493751854812e-119]\n"
     ]
    }
   ],
   "source": [
    "cwmodel.step()\n",
    "print(cwmodel.fractions)\n",
    "print(cwmodel.prices)"
   ]
  },
  {
   "cell_type": "code",
   "execution_count": null,
   "id": "01236c8e",
   "metadata": {},
   "outputs": [],
   "source": [
    "# study the limits of beta"
   ]
  },
  {
   "cell_type": "code",
   "execution_count": 401,
   "id": "af17042b",
   "metadata": {},
   "outputs": [],
   "source": [
    "def pi(expected, real, cost):\n",
    "    return expected*real-0.5*expected**2-cost\n",
    "\n",
    "def n(beta, expected, real, costs):\n",
    "    ans = np.array([np.exp(beta*pi(expected[i],real,costs[i])) for i in range(len(costs))])\n",
    "    return ans/np.sum(ans)"
   ]
  },
  {
   "cell_type": "code",
   "execution_count": 405,
   "id": "4488b51c",
   "metadata": {},
   "outputs": [
    {
     "data": {
      "text/plain": [
       "array([0.2, 0.2, 0.2, 0.2, 0.2])"
      ]
     },
     "execution_count": 405,
     "metadata": {},
     "output_type": "execute_result"
    }
   ],
   "source": [
    "n(0,[5,2,3,2,0],2,[10,2,3,1,0])"
   ]
  },
  {
   "cell_type": "code",
   "execution_count": 404,
   "id": "f696fcd9",
   "metadata": {},
   "outputs": [
    {
     "data": {
      "text/plain": [
       "array([2.34533838e-59, 4.53958078e-05, 1.38866830e-11, 9.99909208e-01,\n",
       "       4.53958078e-05])"
      ]
     },
     "execution_count": 404,
     "metadata": {},
     "output_type": "execute_result"
    }
   ],
   "source": [
    "n(10,[5,2,3,2,0],2,[10,2,3,1,0])"
   ]
  }
 ],
 "metadata": {
  "kernelspec": {
   "display_name": "Python 3 (ipykernel)",
   "language": "python",
   "name": "python3"
  },
  "language_info": {
   "codemirror_mode": {
    "name": "ipython",
    "version": 3
   },
   "file_extension": ".py",
   "mimetype": "text/x-python",
   "name": "python",
   "nbconvert_exporter": "python",
   "pygments_lexer": "ipython3",
   "version": "3.10.4"
  }
 },
 "nbformat": 4,
 "nbformat_minor": 5
}
